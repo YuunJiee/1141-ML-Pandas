{
  "cells": [
    {
      "cell_type": "markdown",
      "metadata": {},
      "source": [
        "## 第四周"
      ]
    },
    {
      "cell_type": "code",
      "execution_count": 1,
      "metadata": {
        "colab": {
          "base_uri": "https://localhost:8080/"
        },
        "id": "_WO1NDe9_AI3",
        "outputId": "ff0479f6-334b-424e-8f35-e104978dca0a"
      },
      "outputs": [
        {
          "name": "stdout",
          "output_type": "stream",
          "text": [
            "Requirement already satisfied: pandas in /home/codespace/.local/lib/python3.12/site-packages (2.3.1)\n",
            "Requirement already satisfied: numpy>=1.26.0 in /home/codespace/.local/lib/python3.12/site-packages (from pandas) (2.3.1)\n",
            "Requirement already satisfied: python-dateutil>=2.8.2 in /home/codespace/.local/lib/python3.12/site-packages (from pandas) (2.9.0.post0)\n",
            "Requirement already satisfied: pytz>=2020.1 in /home/codespace/.local/lib/python3.12/site-packages (from pandas) (2025.2)\n",
            "Requirement already satisfied: tzdata>=2022.7 in /home/codespace/.local/lib/python3.12/site-packages (from pandas) (2025.2)\n",
            "Requirement already satisfied: six>=1.5 in /home/codespace/.local/lib/python3.12/site-packages (from python-dateutil>=2.8.2->pandas) (1.17.0)\n",
            "\n",
            "\u001b[1m[\u001b[0m\u001b[34;49mnotice\u001b[0m\u001b[1;39;49m]\u001b[0m\u001b[39;49m A new release of pip is available: \u001b[0m\u001b[31;49m25.1.1\u001b[0m\u001b[39;49m -> \u001b[0m\u001b[32;49m25.2\u001b[0m\n",
            "\u001b[1m[\u001b[0m\u001b[34;49mnotice\u001b[0m\u001b[1;39;49m]\u001b[0m\u001b[39;49m To update, run: \u001b[0m\u001b[32;49mpython3 -m pip install --upgrade pip\u001b[0m\n"
          ]
        }
      ],
      "source": [
        "!pip install pandas"
      ]
    },
    {
      "cell_type": "code",
      "execution_count": 3,
      "metadata": {
        "id": "EzYF-wpSBnWk"
      },
      "outputs": [],
      "source": [
        "import pandas as pd"
      ]
    },
    {
      "cell_type": "code",
      "execution_count": 4,
      "metadata": {
        "colab": {
          "base_uri": "https://localhost:8080/"
        },
        "id": "_FtEK_-aBr8o",
        "outputId": "fe19fe03-ede4-4b7a-fe08-5f5800885cf6"
      },
      "outputs": [
        {
          "name": "stdout",
          "output_type": "stream",
          "text": [
            "2.3.1\n"
          ]
        }
      ],
      "source": [
        "print(pd.__version__)"
      ]
    },
    {
      "cell_type": "code",
      "execution_count": 55,
      "metadata": {
        "colab": {
          "base_uri": "https://localhost:8080/"
        },
        "id": "D90WdrXjCPAm",
        "outputId": "b4716748-d8ad-40ee-9fc3-f65220331941"
      },
      "outputs": [
        {
          "name": "stdout",
          "output_type": "stream",
          "text": [
            "0    60\n",
            "1    27\n",
            "2    72\n",
            "3    53\n",
            "dtype: int64\n",
            "多拉A夢    60\n",
            "大雄      27\n",
            "小夫      72\n",
            "胖虎      53\n",
            "dtype: int64\n"
          ]
        }
      ],
      "source": [
        "import pandas as pd\n",
        "# 創建Series\n",
        "\n",
        "# 建立紀錄成績的Series，不設定index，value是他們的分數\n",
        "grades = pd.Series([60, 27, 72, 53])\n",
        "print(grades)\n",
        "\n",
        "# 建立紀錄成績的Series，index是學生名稱，value是他們的分數\n",
        "grades_withindex = pd.Series(\n",
        "    [60, 27, 72, 53],  #成績數值List\n",
        "    index=['多拉A夢', '大雄', '小夫', '胖虎'])  #對應的學生名稱\n",
        "\n",
        "# 輸出 Series，觀察格式與內容\n",
        "print(grades_withindex)"
      ]
    },
    {
      "cell_type": "code",
      "execution_count": 56,
      "metadata": {
        "colab": {
          "base_uri": "https://localhost:8080/"
        },
        "id": "tCqvIpzSIhbo",
        "outputId": "dcffa19e-2d87-4b39-fc89-8ab5f213169f"
      },
      "outputs": [
        {
          "name": "stdout",
          "output_type": "stream",
          "text": [
            "   name                 email  grades\n",
            "0  多啦A夢        Dora@gmail.com      60\n",
            "1    大雄      hibino@gmail.com      77\n",
            "2    小夫        rich@gmail.com      92\n",
            "3    胖虎  goodSinger@gmail.com      43\n",
            "設定index：\n",
            "      name                 email  grades\n",
            "學生1  多啦A夢        Dora@gmail.com      60\n",
            "學生2    大雄      hibino@gmail.com      77\n",
            "學生3    小夫        rich@gmail.com      92\n",
            "學生4    胖虎  goodSinger@gmail.com      43\n",
            "設定 column：\n",
            "                     email  name  grades\n",
            "學生1        Dora@gmail.com  多啦A夢      60\n",
            "學生2      hibino@gmail.com    大雄      77\n",
            "學生3        rich@gmail.com    小夫      92\n",
            "學生4  goodSinger@gmail.com    胖虎      43\n"
          ]
        }
      ],
      "source": [
        "# 建立學生資料的dictionary（字典）\n",
        "data = {\n",
        "    'name': ['多啦A夢', '大雄', '小夫', '胖虎'],\n",
        "    'email': ['Dora@gmail.com', 'hibino@gmail.com', 'rich@gmail.com', 'goodSinger@gmail.com'],\n",
        "    'grades': [60, 77, 92, 43]\n",
        "}\n",
        "\n",
        "# 使用 pd.DataFrame() 將上面的字典轉換為表格型資料（DataFrame）\n",
        "df = pd.DataFrame(data)\n",
        "\n",
        "print(df)\n",
        "\n",
        "df_withindex = pd.DataFrame(data,index=['學生1', '學生2', '學生3', '學生4'])\n",
        "print(\"設定index：\\n\",df_withindex)\n",
        "\n",
        "df_withcolumn = pd.DataFrame(data,index=['學生1', '學生2', '學生3', '學生4'],columns=[\"email\",\"name\",\"grades\"])\n",
        "print(\"設定 column：\\n\",df_withcolumn)\n"
      ]
    },
    {
      "cell_type": "code",
      "execution_count": 5,
      "metadata": {
        "colab": {
          "base_uri": "https://localhost:8080/",
          "height": 143
        },
        "id": "xFhX-iMdVaMN",
        "outputId": "308175ac-ca4b-4361-af52-070ec92372e8"
      },
      "outputs": [
        {
          "data": {
            "text/html": [
              "<div>\n",
              "<style scoped>\n",
              "    .dataframe tbody tr th:only-of-type {\n",
              "        vertical-align: middle;\n",
              "    }\n",
              "\n",
              "    .dataframe tbody tr th {\n",
              "        vertical-align: top;\n",
              "    }\n",
              "\n",
              "    .dataframe thead th {\n",
              "        text-align: right;\n",
              "    }\n",
              "</style>\n",
              "<table border=\"1\" class=\"dataframe\">\n",
              "  <thead>\n",
              "    <tr style=\"text-align: right;\">\n",
              "      <th></th>\n",
              "      <th>姓名</th>\n",
              "      <th>性別</th>\n",
              "      <th>班級</th>\n",
              "      <th>數學</th>\n",
              "      <th>英文</th>\n",
              "      <th>國文</th>\n",
              "      <th>自然</th>\n",
              "      <th>社會</th>\n",
              "    </tr>\n",
              "  </thead>\n",
              "  <tbody>\n",
              "    <tr>\n",
              "      <th>0</th>\n",
              "      <td>多拉A夢</td>\n",
              "      <td>男</td>\n",
              "      <td>A</td>\n",
              "      <td>71</td>\n",
              "      <td>58</td>\n",
              "      <td>64</td>\n",
              "      <td>73</td>\n",
              "      <td>58</td>\n",
              "    </tr>\n",
              "    <tr>\n",
              "      <th>1</th>\n",
              "      <td>大雄</td>\n",
              "      <td>男</td>\n",
              "      <td>A</td>\n",
              "      <td>96</td>\n",
              "      <td>84</td>\n",
              "      <td>79</td>\n",
              "      <td>66</td>\n",
              "      <td>80</td>\n",
              "    </tr>\n",
              "    <tr>\n",
              "      <th>2</th>\n",
              "      <td>胖虎</td>\n",
              "      <td>男</td>\n",
              "      <td>A</td>\n",
              "      <td>61</td>\n",
              "      <td>74</td>\n",
              "      <td>90</td>\n",
              "      <td>80</td>\n",
              "      <td>76</td>\n",
              "    </tr>\n",
              "  </tbody>\n",
              "</table>\n",
              "</div>"
            ],
            "text/plain": [
              "     姓名 性別 班級  數學  英文  國文  自然  社會\n",
              "0  多拉A夢  男  A  71  58  64  73  58\n",
              "1    大雄  男  A  96  84  79  66  80\n",
              "2    胖虎  男  A  61  74  90  80  76"
            ]
          },
          "execution_count": 5,
          "metadata": {},
          "output_type": "execute_result"
        }
      ],
      "source": [
        "# 使用Pandas讀取資料\n",
        "# 從本機讀取 CSV 檔案，若使用Colab，要先將檔案上傳後才能讀取\n",
        "df = pd.read_csv('grades.csv',encoding='utf-8-sig')\n",
        "df.head(3)"
      ]
    },
    {
      "cell_type": "code",
      "execution_count": 58,
      "metadata": {
        "colab": {
          "base_uri": "https://localhost:8080/"
        },
        "id": "PSKvfZggWr9b",
        "outputId": "187eae16-4ce3-4e13-aba2-f2a721bfc7c0"
      },
      "outputs": [
        {
          "name": "stdout",
          "output_type": "stream",
          "text": [
            "Index(['姓名', '性別', '班級', '數學', '英文', '國文', '自然', '社會'], dtype='object')\n",
            "RangeIndex(start=0, stop=30, step=1)\n"
          ]
        }
      ],
      "source": [
        "print(df.columns)\n",
        "print(df.index)"
      ]
    },
    {
      "cell_type": "code",
      "execution_count": 59,
      "metadata": {
        "id": "5L0mU3_UWmSS"
      },
      "outputs": [
        {
          "name": "stdout",
          "output_type": "stream",
          "text": [
            "<class 'pandas.core.frame.DataFrame'>\n",
            "RangeIndex: 30 entries, 0 to 29\n",
            "Data columns (total 8 columns):\n",
            " #   Column  Non-Null Count  Dtype \n",
            "---  ------  --------------  ----- \n",
            " 0   姓名      30 non-null     object\n",
            " 1   性別      30 non-null     object\n",
            " 2   班級      30 non-null     object\n",
            " 3   數學      30 non-null     int64 \n",
            " 4   英文      30 non-null     int64 \n",
            " 5   國文      30 non-null     int64 \n",
            " 6   自然      30 non-null     int64 \n",
            " 7   社會      30 non-null     int64 \n",
            "dtypes: int64(5), object(3)\n",
            "memory usage: 2.0+ KB\n"
          ]
        }
      ],
      "source": [
        "df.info()"
      ]
    },
    {
      "cell_type": "code",
      "execution_count": 60,
      "metadata": {
        "id": "1-3pMYFBPYNl"
      },
      "outputs": [
        {
          "data": {
            "text/plain": [
              "0    58\n",
              "1    84\n",
              "2    74\n",
              "Name: 英文, dtype: int64"
            ]
          },
          "execution_count": 60,
          "metadata": {},
          "output_type": "execute_result"
        }
      ],
      "source": [
        "df['英文'].head(3)"
      ]
    },
    {
      "cell_type": "code",
      "execution_count": 61,
      "metadata": {
        "id": "VKPI_6WlQ0eW"
      },
      "outputs": [
        {
          "data": {
            "text/html": [
              "<div>\n",
              "<style scoped>\n",
              "    .dataframe tbody tr th:only-of-type {\n",
              "        vertical-align: middle;\n",
              "    }\n",
              "\n",
              "    .dataframe tbody tr th {\n",
              "        vertical-align: top;\n",
              "    }\n",
              "\n",
              "    .dataframe thead th {\n",
              "        text-align: right;\n",
              "    }\n",
              "</style>\n",
              "<table border=\"1\" class=\"dataframe\">\n",
              "  <thead>\n",
              "    <tr style=\"text-align: right;\">\n",
              "      <th></th>\n",
              "      <th>姓名</th>\n",
              "      <th>英文</th>\n",
              "    </tr>\n",
              "  </thead>\n",
              "  <tbody>\n",
              "    <tr>\n",
              "      <th>0</th>\n",
              "      <td>多拉A夢</td>\n",
              "      <td>58</td>\n",
              "    </tr>\n",
              "    <tr>\n",
              "      <th>1</th>\n",
              "      <td>大雄</td>\n",
              "      <td>84</td>\n",
              "    </tr>\n",
              "    <tr>\n",
              "      <th>2</th>\n",
              "      <td>胖虎</td>\n",
              "      <td>74</td>\n",
              "    </tr>\n",
              "  </tbody>\n",
              "</table>\n",
              "</div>"
            ],
            "text/plain": [
              "     姓名  英文\n",
              "0  多拉A夢  58\n",
              "1    大雄  84\n",
              "2    胖虎  74"
            ]
          },
          "execution_count": 61,
          "metadata": {},
          "output_type": "execute_result"
        }
      ],
      "source": [
        "# 顯示「姓名」和「英文」欄位\n",
        "df[['姓名', '英文']].head(3)"
      ]
    },
    {
      "cell_type": "code",
      "execution_count": 62,
      "metadata": {
        "id": "zjsii8TsREg5"
      },
      "outputs": [
        {
          "data": {
            "text/html": [
              "<div>\n",
              "<style scoped>\n",
              "    .dataframe tbody tr th:only-of-type {\n",
              "        vertical-align: middle;\n",
              "    }\n",
              "\n",
              "    .dataframe tbody tr th {\n",
              "        vertical-align: top;\n",
              "    }\n",
              "\n",
              "    .dataframe thead th {\n",
              "        text-align: right;\n",
              "    }\n",
              "</style>\n",
              "<table border=\"1\" class=\"dataframe\">\n",
              "  <thead>\n",
              "    <tr style=\"text-align: right;\">\n",
              "      <th></th>\n",
              "      <th>姓名</th>\n",
              "      <th>英文</th>\n",
              "    </tr>\n",
              "  </thead>\n",
              "  <tbody>\n",
              "    <tr>\n",
              "      <th>10</th>\n",
              "      <td>我愛羅</td>\n",
              "      <td>95</td>\n",
              "    </tr>\n",
              "    <tr>\n",
              "      <th>11</th>\n",
              "      <td>魯夫</td>\n",
              "      <td>92</td>\n",
              "    </tr>\n",
              "    <tr>\n",
              "      <th>12</th>\n",
              "      <td>柯南</td>\n",
              "      <td>91</td>\n",
              "    </tr>\n",
              "  </tbody>\n",
              "</table>\n",
              "</div>"
            ],
            "text/plain": [
              "     姓名  英文\n",
              "10  我愛羅  95\n",
              "11   魯夫  92\n",
              "12   柯南  91"
            ]
          },
          "execution_count": 62,
          "metadata": {},
          "output_type": "execute_result"
        }
      ],
      "source": [
        "# 找出英文 > 90 分的學生，並只顯示「姓名」和「英文」欄位\n",
        "df[df['英文'] > 90][['姓名', '英文']].head(3)"
      ]
    },
    {
      "cell_type": "code",
      "execution_count": 63,
      "metadata": {
        "id": "P9BMVaDJN_jm"
      },
      "outputs": [
        {
          "name": "stdout",
          "output_type": "stream",
          "text": [
            "轉換前資料類型:  <class 'pandas.core.series.Series'>\n",
            "轉換後資料類型:  <class 'numpy.ndarray'>\n"
          ]
        }
      ],
      "source": [
        "# 將「國文」欄位轉為 NumPy 陣列\n",
        "chinese_scores = df['國文'].values\n",
        "\n",
        "# 檢查「國文」欄位原本是什麼型別（Series）\n",
        "print(\"轉換前資料類型: \", type(df['國文']))\n",
        "\n",
        "# 檢查轉換後的型別（NumPy array）\n",
        "print(\"轉換後資料類型: \", type(chinese_scores))"
      ]
    },
    {
      "cell_type": "code",
      "execution_count": 64,
      "metadata": {
        "id": "YpbuC2NEPR_E"
      },
      "outputs": [
        {
          "data": {
            "text/html": [
              "<div>\n",
              "<style scoped>\n",
              "    .dataframe tbody tr th:only-of-type {\n",
              "        vertical-align: middle;\n",
              "    }\n",
              "\n",
              "    .dataframe tbody tr th {\n",
              "        vertical-align: top;\n",
              "    }\n",
              "\n",
              "    .dataframe thead th {\n",
              "        text-align: right;\n",
              "    }\n",
              "</style>\n",
              "<table border=\"1\" class=\"dataframe\">\n",
              "  <thead>\n",
              "    <tr style=\"text-align: right;\">\n",
              "      <th></th>\n",
              "      <th>姓名</th>\n",
              "      <th>班級</th>\n",
              "      <th>數學</th>\n",
              "    </tr>\n",
              "  </thead>\n",
              "  <tbody>\n",
              "    <tr>\n",
              "      <th>3</th>\n",
              "      <td>靜香</td>\n",
              "      <td>A</td>\n",
              "      <td>48</td>\n",
              "    </tr>\n",
              "    <tr>\n",
              "      <th>5</th>\n",
              "      <td>櫻木花道</td>\n",
              "      <td>B</td>\n",
              "      <td>50</td>\n",
              "    </tr>\n",
              "    <tr>\n",
              "      <th>7</th>\n",
              "      <td>三井壽</td>\n",
              "      <td>A</td>\n",
              "      <td>50</td>\n",
              "    </tr>\n",
              "  </tbody>\n",
              "</table>\n",
              "</div>"
            ],
            "text/plain": [
              "     姓名 班級  數學\n",
              "3    靜香  A  48\n",
              "5  櫻木花道  B  50\n",
              "7   三井壽  A  50"
            ]
          },
          "execution_count": 64,
          "metadata": {},
          "output_type": "execute_result"
        }
      ],
      "source": [
        "# 課堂練習: 選取特定欄位\n",
        "\n",
        "# 任務一: 選取特定欄位並存成新DataFrame(math_df)\n",
        "math_df = df[['姓名', '班級', '數學']]\n",
        "\n",
        "# 任務二: 從剛剛選出的資料中，找出數學成績低於60的學生\n",
        "math_df[math_df['數學'] < 60].head(3)"
      ]
    },
    {
      "cell_type": "code",
      "execution_count": 65,
      "metadata": {
        "id": "S1iww8LOYOhZ"
      },
      "outputs": [
        {
          "data": {
            "text/html": [
              "<div>\n",
              "<style scoped>\n",
              "    .dataframe tbody tr th:only-of-type {\n",
              "        vertical-align: middle;\n",
              "    }\n",
              "\n",
              "    .dataframe tbody tr th {\n",
              "        vertical-align: top;\n",
              "    }\n",
              "\n",
              "    .dataframe thead th {\n",
              "        text-align: right;\n",
              "    }\n",
              "</style>\n",
              "<table border=\"1\" class=\"dataframe\">\n",
              "  <thead>\n",
              "    <tr style=\"text-align: right;\">\n",
              "      <th></th>\n",
              "      <th>姓名</th>\n",
              "      <th>班級</th>\n",
              "      <th>數學</th>\n",
              "    </tr>\n",
              "  </thead>\n",
              "  <tbody>\n",
              "    <tr>\n",
              "      <th>3</th>\n",
              "      <td>靜香</td>\n",
              "      <td>A</td>\n",
              "      <td>48</td>\n",
              "    </tr>\n",
              "    <tr>\n",
              "      <th>7</th>\n",
              "      <td>三井壽</td>\n",
              "      <td>A</td>\n",
              "      <td>50</td>\n",
              "    </tr>\n",
              "    <tr>\n",
              "      <th>10</th>\n",
              "      <td>我愛羅</td>\n",
              "      <td>A</td>\n",
              "      <td>53</td>\n",
              "    </tr>\n",
              "  </tbody>\n",
              "</table>\n",
              "</div>"
            ],
            "text/plain": [
              "     姓名 班級  數學\n",
              "3    靜香  A  48\n",
              "7   三井壽  A  50\n",
              "10  我愛羅  A  53"
            ]
          },
          "execution_count": 65,
          "metadata": {},
          "output_type": "execute_result"
        }
      ],
      "source": [
        "# 課堂練習: 選取特定欄位\n",
        "\n",
        "# 任務三: 多條件篩選：數學 < 60 且 班級 == 'A'\n",
        "## 使用 & 表示「且」的條件邏輯，每個條件要用括號包住\n",
        "math_df[(math_df['數學'] < 60) & (math_df['班級'] == 'A')].head(3)"
      ]
    },
    {
      "cell_type": "code",
      "execution_count": 66,
      "metadata": {
        "id": "tDobBUjDmmA5"
      },
      "outputs": [
        {
          "name": "stdout",
          "output_type": "stream",
          "text": [
            "數學平均： 71.03333333333333\n",
            "數學標準差： 12.994649650538097\n",
            "數學最低分： 48\n"
          ]
        }
      ],
      "source": [
        "# 計算數學成績的平均值\n",
        "print(\"數學平均：\", df['數學'].mean())\n",
        "\n",
        "# 計算數學成績的標準差（分散程度）\n",
        "print(\"數學標準差：\", df['數學'].std())\n",
        "\n",
        "# 計算數學成績的最小值\n",
        "print(\"數學最低分：\", df['數學'].min())"
      ]
    },
    {
      "cell_type": "code",
      "execution_count": 67,
      "metadata": {
        "id": "zwm2YmO0mrcR"
      },
      "outputs": [
        {
          "data": {
            "text/html": [
              "<div>\n",
              "<style scoped>\n",
              "    .dataframe tbody tr th:only-of-type {\n",
              "        vertical-align: middle;\n",
              "    }\n",
              "\n",
              "    .dataframe tbody tr th {\n",
              "        vertical-align: top;\n",
              "    }\n",
              "\n",
              "    .dataframe thead th {\n",
              "        text-align: right;\n",
              "    }\n",
              "</style>\n",
              "<table border=\"1\" class=\"dataframe\">\n",
              "  <thead>\n",
              "    <tr style=\"text-align: right;\">\n",
              "      <th></th>\n",
              "      <th>姓名</th>\n",
              "      <th>性別</th>\n",
              "      <th>班級</th>\n",
              "      <th>數學</th>\n",
              "      <th>英文</th>\n",
              "      <th>國文</th>\n",
              "      <th>自然</th>\n",
              "      <th>社會</th>\n",
              "    </tr>\n",
              "  </thead>\n",
              "  <tbody>\n",
              "    <tr>\n",
              "      <th>count</th>\n",
              "      <td>30</td>\n",
              "      <td>30</td>\n",
              "      <td>30</td>\n",
              "      <td>30.000000</td>\n",
              "      <td>30.000000</td>\n",
              "      <td>30.000000</td>\n",
              "      <td>30.000000</td>\n",
              "      <td>30.000000</td>\n",
              "    </tr>\n",
              "    <tr>\n",
              "      <th>unique</th>\n",
              "      <td>30</td>\n",
              "      <td>2</td>\n",
              "      <td>2</td>\n",
              "      <td>NaN</td>\n",
              "      <td>NaN</td>\n",
              "      <td>NaN</td>\n",
              "      <td>NaN</td>\n",
              "      <td>NaN</td>\n",
              "    </tr>\n",
              "    <tr>\n",
              "      <th>top</th>\n",
              "      <td>多拉A夢</td>\n",
              "      <td>男</td>\n",
              "      <td>A</td>\n",
              "      <td>NaN</td>\n",
              "      <td>NaN</td>\n",
              "      <td>NaN</td>\n",
              "      <td>NaN</td>\n",
              "      <td>NaN</td>\n",
              "    </tr>\n",
              "    <tr>\n",
              "      <th>freq</th>\n",
              "      <td>1</td>\n",
              "      <td>19</td>\n",
              "      <td>17</td>\n",
              "      <td>NaN</td>\n",
              "      <td>NaN</td>\n",
              "      <td>NaN</td>\n",
              "      <td>NaN</td>\n",
              "      <td>NaN</td>\n",
              "    </tr>\n",
              "    <tr>\n",
              "      <th>mean</th>\n",
              "      <td>NaN</td>\n",
              "      <td>NaN</td>\n",
              "      <td>NaN</td>\n",
              "      <td>71.033333</td>\n",
              "      <td>71.100000</td>\n",
              "      <td>80.366667</td>\n",
              "      <td>72.033333</td>\n",
              "      <td>72.866667</td>\n",
              "    </tr>\n",
              "    <tr>\n",
              "      <th>std</th>\n",
              "      <td>NaN</td>\n",
              "      <td>NaN</td>\n",
              "      <td>NaN</td>\n",
              "      <td>12.994650</td>\n",
              "      <td>14.020551</td>\n",
              "      <td>12.696683</td>\n",
              "      <td>11.810233</td>\n",
              "      <td>11.476312</td>\n",
              "    </tr>\n",
              "    <tr>\n",
              "      <th>min</th>\n",
              "      <td>NaN</td>\n",
              "      <td>NaN</td>\n",
              "      <td>NaN</td>\n",
              "      <td>48.000000</td>\n",
              "      <td>40.000000</td>\n",
              "      <td>49.000000</td>\n",
              "      <td>44.000000</td>\n",
              "      <td>44.000000</td>\n",
              "    </tr>\n",
              "    <tr>\n",
              "      <th>25%</th>\n",
              "      <td>NaN</td>\n",
              "      <td>NaN</td>\n",
              "      <td>NaN</td>\n",
              "      <td>61.250000</td>\n",
              "      <td>61.250000</td>\n",
              "      <td>71.000000</td>\n",
              "      <td>65.250000</td>\n",
              "      <td>67.750000</td>\n",
              "    </tr>\n",
              "    <tr>\n",
              "      <th>50%</th>\n",
              "      <td>NaN</td>\n",
              "      <td>NaN</td>\n",
              "      <td>NaN</td>\n",
              "      <td>71.500000</td>\n",
              "      <td>71.000000</td>\n",
              "      <td>80.500000</td>\n",
              "      <td>71.500000</td>\n",
              "      <td>72.500000</td>\n",
              "    </tr>\n",
              "    <tr>\n",
              "      <th>75%</th>\n",
              "      <td>NaN</td>\n",
              "      <td>NaN</td>\n",
              "      <td>NaN</td>\n",
              "      <td>81.500000</td>\n",
              "      <td>81.000000</td>\n",
              "      <td>89.750000</td>\n",
              "      <td>79.250000</td>\n",
              "      <td>80.000000</td>\n",
              "    </tr>\n",
              "    <tr>\n",
              "      <th>max</th>\n",
              "      <td>NaN</td>\n",
              "      <td>NaN</td>\n",
              "      <td>NaN</td>\n",
              "      <td>96.000000</td>\n",
              "      <td>100.000000</td>\n",
              "      <td>100.000000</td>\n",
              "      <td>100.000000</td>\n",
              "      <td>93.000000</td>\n",
              "    </tr>\n",
              "  </tbody>\n",
              "</table>\n",
              "</div>"
            ],
            "text/plain": [
              "          姓名   性別   班級         數學          英文          國文          自然  \\\n",
              "count     30   30   30  30.000000   30.000000   30.000000   30.000000   \n",
              "unique    30    2    2        NaN         NaN         NaN         NaN   \n",
              "top     多拉A夢    男    A        NaN         NaN         NaN         NaN   \n",
              "freq       1   19   17        NaN         NaN         NaN         NaN   \n",
              "mean     NaN  NaN  NaN  71.033333   71.100000   80.366667   72.033333   \n",
              "std      NaN  NaN  NaN  12.994650   14.020551   12.696683   11.810233   \n",
              "min      NaN  NaN  NaN  48.000000   40.000000   49.000000   44.000000   \n",
              "25%      NaN  NaN  NaN  61.250000   61.250000   71.000000   65.250000   \n",
              "50%      NaN  NaN  NaN  71.500000   71.000000   80.500000   71.500000   \n",
              "75%      NaN  NaN  NaN  81.500000   81.000000   89.750000   79.250000   \n",
              "max      NaN  NaN  NaN  96.000000  100.000000  100.000000  100.000000   \n",
              "\n",
              "               社會  \n",
              "count   30.000000  \n",
              "unique        NaN  \n",
              "top           NaN  \n",
              "freq          NaN  \n",
              "mean    72.866667  \n",
              "std     11.476312  \n",
              "min     44.000000  \n",
              "25%     67.750000  \n",
              "50%     72.500000  \n",
              "75%     80.000000  \n",
              "max     93.000000  "
            ]
          },
          "execution_count": 67,
          "metadata": {},
          "output_type": "execute_result"
        }
      ],
      "source": [
        "# 查看完整統計摘要\n",
        "df.describe(include='all')"
      ]
    },
    {
      "cell_type": "code",
      "execution_count": 68,
      "metadata": {
        "id": "u1ygLCors_XA"
      },
      "outputs": [
        {
          "data": {
            "text/html": [
              "<div>\n",
              "<style scoped>\n",
              "    .dataframe tbody tr th:only-of-type {\n",
              "        vertical-align: middle;\n",
              "    }\n",
              "\n",
              "    .dataframe tbody tr th {\n",
              "        vertical-align: top;\n",
              "    }\n",
              "\n",
              "    .dataframe thead th {\n",
              "        text-align: right;\n",
              "    }\n",
              "</style>\n",
              "<table border=\"1\" class=\"dataframe\">\n",
              "  <thead>\n",
              "    <tr style=\"text-align: right;\">\n",
              "      <th></th>\n",
              "      <th>數學</th>\n",
              "      <th>英文</th>\n",
              "      <th>國文</th>\n",
              "      <th>自然</th>\n",
              "      <th>社會</th>\n",
              "    </tr>\n",
              "  </thead>\n",
              "  <tbody>\n",
              "    <tr>\n",
              "      <th>數學</th>\n",
              "      <td>1.000000</td>\n",
              "      <td>0.095750</td>\n",
              "      <td>-0.239382</td>\n",
              "      <td>-0.156390</td>\n",
              "      <td>0.119805</td>\n",
              "    </tr>\n",
              "    <tr>\n",
              "      <th>英文</th>\n",
              "      <td>0.095750</td>\n",
              "      <td>1.000000</td>\n",
              "      <td>0.280276</td>\n",
              "      <td>-0.032507</td>\n",
              "      <td>0.251681</td>\n",
              "    </tr>\n",
              "    <tr>\n",
              "      <th>國文</th>\n",
              "      <td>-0.239382</td>\n",
              "      <td>0.280276</td>\n",
              "      <td>1.000000</td>\n",
              "      <td>-0.242233</td>\n",
              "      <td>0.206234</td>\n",
              "    </tr>\n",
              "    <tr>\n",
              "      <th>自然</th>\n",
              "      <td>-0.156390</td>\n",
              "      <td>-0.032507</td>\n",
              "      <td>-0.242233</td>\n",
              "      <td>1.000000</td>\n",
              "      <td>-0.438830</td>\n",
              "    </tr>\n",
              "    <tr>\n",
              "      <th>社會</th>\n",
              "      <td>0.119805</td>\n",
              "      <td>0.251681</td>\n",
              "      <td>0.206234</td>\n",
              "      <td>-0.438830</td>\n",
              "      <td>1.000000</td>\n",
              "    </tr>\n",
              "  </tbody>\n",
              "</table>\n",
              "</div>"
            ],
            "text/plain": [
              "          數學        英文        國文        自然        社會\n",
              "數學  1.000000  0.095750 -0.239382 -0.156390  0.119805\n",
              "英文  0.095750  1.000000  0.280276 -0.032507  0.251681\n",
              "國文 -0.239382  0.280276  1.000000 -0.242233  0.206234\n",
              "自然 -0.156390 -0.032507 -0.242233  1.000000 -0.438830\n",
              "社會  0.119805  0.251681  0.206234 -0.438830  1.000000"
            ]
          },
          "execution_count": 68,
          "metadata": {},
          "output_type": "execute_result"
        }
      ],
      "source": [
        "df.select_dtypes(include='number').corr()"
      ]
    },
    {
      "cell_type": "code",
      "execution_count": 69,
      "metadata": {
        "id": "rx0cpeThvI1E"
      },
      "outputs": [
        {
          "data": {
            "text/html": [
              "<div>\n",
              "<style scoped>\n",
              "    .dataframe tbody tr th:only-of-type {\n",
              "        vertical-align: middle;\n",
              "    }\n",
              "\n",
              "    .dataframe tbody tr th {\n",
              "        vertical-align: top;\n",
              "    }\n",
              "\n",
              "    .dataframe thead th {\n",
              "        text-align: right;\n",
              "    }\n",
              "</style>\n",
              "<table border=\"1\" class=\"dataframe\">\n",
              "  <thead>\n",
              "    <tr style=\"text-align: right;\">\n",
              "      <th></th>\n",
              "      <th>國文</th>\n",
              "      <th>數學</th>\n",
              "      <th>英文</th>\n",
              "    </tr>\n",
              "  </thead>\n",
              "  <tbody>\n",
              "    <tr>\n",
              "      <th>國文</th>\n",
              "      <td>1.000000</td>\n",
              "      <td>-0.239382</td>\n",
              "      <td>0.280276</td>\n",
              "    </tr>\n",
              "    <tr>\n",
              "      <th>數學</th>\n",
              "      <td>-0.239382</td>\n",
              "      <td>1.000000</td>\n",
              "      <td>0.095750</td>\n",
              "    </tr>\n",
              "    <tr>\n",
              "      <th>英文</th>\n",
              "      <td>0.280276</td>\n",
              "      <td>0.095750</td>\n",
              "      <td>1.000000</td>\n",
              "    </tr>\n",
              "  </tbody>\n",
              "</table>\n",
              "</div>"
            ],
            "text/plain": [
              "          國文        數學        英文\n",
              "國文  1.000000 -0.239382  0.280276\n",
              "數學 -0.239382  1.000000  0.095750\n",
              "英文  0.280276  0.095750  1.000000"
            ]
          },
          "execution_count": 69,
          "metadata": {},
          "output_type": "execute_result"
        }
      ],
      "source": [
        "df[['國文', '數學', '英文']].corr()"
      ]
    },
    {
      "cell_type": "code",
      "execution_count": 70,
      "metadata": {
        "id": "NgytPxRLs60G"
      },
      "outputs": [
        {
          "data": {
            "text/plain": [
              "np.float64(0.09574960964470358)"
            ]
          },
          "execution_count": 70,
          "metadata": {},
          "output_type": "execute_result"
        }
      ],
      "source": [
        "# 計算「數學」與「英文」分數的相關係數\n",
        "df['數學'].corr(df['英文'])"
      ]
    },
    {
      "cell_type": "code",
      "execution_count": 71,
      "metadata": {
        "id": "RC6yvAsnxPwn"
      },
      "outputs": [
        {
          "data": {
            "text/plain": [
              "數學    71.033333\n",
              "英文    71.100000\n",
              "國文    80.366667\n",
              "dtype: float64"
            ]
          },
          "execution_count": 71,
          "metadata": {},
          "output_type": "execute_result"
        }
      ],
      "source": [
        "# 軸操作示範\n",
        "# 指定科目平均(欄平均)\n",
        "df[['數學', '英文', '國文']].mean(axis=0)"
      ]
    },
    {
      "cell_type": "code",
      "execution_count": 72,
      "metadata": {
        "id": "AXTjkTdL4s-J"
      },
      "outputs": [
        {
          "data": {
            "text/html": [
              "<div>\n",
              "<style scoped>\n",
              "    .dataframe tbody tr th:only-of-type {\n",
              "        vertical-align: middle;\n",
              "    }\n",
              "\n",
              "    .dataframe tbody tr th {\n",
              "        vertical-align: top;\n",
              "    }\n",
              "\n",
              "    .dataframe thead th {\n",
              "        text-align: right;\n",
              "    }\n",
              "</style>\n",
              "<table border=\"1\" class=\"dataframe\">\n",
              "  <thead>\n",
              "    <tr style=\"text-align: right;\">\n",
              "      <th></th>\n",
              "      <th>姓名</th>\n",
              "      <th>性別</th>\n",
              "      <th>班級</th>\n",
              "      <th>數學</th>\n",
              "      <th>英文</th>\n",
              "      <th>國文</th>\n",
              "      <th>自然</th>\n",
              "      <th>社會</th>\n",
              "      <th>英數總分</th>\n",
              "      <th>英數平均</th>\n",
              "      <th>加權分數</th>\n",
              "    </tr>\n",
              "  </thead>\n",
              "  <tbody>\n",
              "    <tr>\n",
              "      <th>0</th>\n",
              "      <td>多拉A夢</td>\n",
              "      <td>男</td>\n",
              "      <td>A</td>\n",
              "      <td>71</td>\n",
              "      <td>58</td>\n",
              "      <td>64</td>\n",
              "      <td>73</td>\n",
              "      <td>58</td>\n",
              "      <td>129</td>\n",
              "      <td>64.5</td>\n",
              "      <td>164.5</td>\n",
              "    </tr>\n",
              "    <tr>\n",
              "      <th>1</th>\n",
              "      <td>大雄</td>\n",
              "      <td>男</td>\n",
              "      <td>A</td>\n",
              "      <td>96</td>\n",
              "      <td>84</td>\n",
              "      <td>79</td>\n",
              "      <td>66</td>\n",
              "      <td>80</td>\n",
              "      <td>180</td>\n",
              "      <td>90.0</td>\n",
              "      <td>228.0</td>\n",
              "    </tr>\n",
              "    <tr>\n",
              "      <th>2</th>\n",
              "      <td>胖虎</td>\n",
              "      <td>男</td>\n",
              "      <td>A</td>\n",
              "      <td>61</td>\n",
              "      <td>74</td>\n",
              "      <td>90</td>\n",
              "      <td>80</td>\n",
              "      <td>76</td>\n",
              "      <td>135</td>\n",
              "      <td>67.5</td>\n",
              "      <td>165.5</td>\n",
              "    </tr>\n",
              "  </tbody>\n",
              "</table>\n",
              "</div>"
            ],
            "text/plain": [
              "     姓名 性別 班級  數學  英文  國文  自然  社會  英數總分  英數平均   加權分數\n",
              "0  多拉A夢  男  A  71  58  64  73  58   129  64.5  164.5\n",
              "1    大雄  男  A  96  84  79  66  80   180  90.0  228.0\n",
              "2    胖虎  男  A  61  74  90  80  76   135  67.5  165.5"
            ]
          },
          "execution_count": 72,
          "metadata": {},
          "output_type": "execute_result"
        }
      ],
      "source": [
        "# 課堂練習; 數值運算\n",
        "\n",
        "# 任務1: 計算總分\n",
        "df['英數總分'] = df['數學'] + df['英文']\n",
        "\n",
        "# 任務2: 計算平均分數\n",
        "## 法一: 將總分/科目數量\n",
        "df['英數平均'] = (df['數學'] + df['英文']) / 2\n",
        "\n",
        "# 法二: 使用mean()函數\n",
        "df['英數平均'] = df[['數學', '英文']].mean(axis=1)\n",
        "\n",
        "# 任務3: 計算加權分數\n",
        "df['加權分數'] = df['數學'] * 1.5 + df['英文']\n",
        "\n",
        "df.head(3)"
      ]
    },
    {
      "cell_type": "code",
      "execution_count": 73,
      "metadata": {
        "id": "qQVDCl0E6jQa"
      },
      "outputs": [
        {
          "data": {
            "text/html": [
              "<div>\n",
              "<style scoped>\n",
              "    .dataframe tbody tr th:only-of-type {\n",
              "        vertical-align: middle;\n",
              "    }\n",
              "\n",
              "    .dataframe tbody tr th {\n",
              "        vertical-align: top;\n",
              "    }\n",
              "\n",
              "    .dataframe thead th {\n",
              "        text-align: right;\n",
              "    }\n",
              "</style>\n",
              "<table border=\"1\" class=\"dataframe\">\n",
              "  <thead>\n",
              "    <tr style=\"text-align: right;\">\n",
              "      <th></th>\n",
              "      <th>姓名</th>\n",
              "      <th>加權分數</th>\n",
              "    </tr>\n",
              "  </thead>\n",
              "  <tbody>\n",
              "    <tr>\n",
              "      <th>1</th>\n",
              "      <td>大雄</td>\n",
              "      <td>228.0</td>\n",
              "    </tr>\n",
              "  </tbody>\n",
              "</table>\n",
              "</div>"
            ],
            "text/plain": [
              "   姓名   加權分數\n",
              "1  大雄  228.0"
            ]
          },
          "execution_count": 73,
          "metadata": {},
          "output_type": "execute_result"
        }
      ],
      "source": [
        "# 任務4: 顯示加權分數最高的學生姓名與分數\n",
        "# 先找出加權分數的最大值\n",
        "\n",
        "max_score = df['加權分數'].max()\n",
        "\n",
        "# 根據最大值篩選出對應的學生（可能不只一人）\n",
        "top_students = df[df['加權分數'] == max_score]\n",
        "\n",
        "# 顯示這些學生的姓名與加權分數\n",
        "top_students[['姓名', '加權分數']]\n",
        "\n"
      ]
    },
    {
      "cell_type": "markdown",
      "metadata": {},
      "source": [
        "## 第五周"
      ]
    },
    {
      "cell_type": "code",
      "execution_count": 6,
      "metadata": {},
      "outputs": [
        {
          "name": "stdout",
          "output_type": "stream",
          "text": [
            "Requirement already satisfied: pandas in /home/codespace/.local/lib/python3.12/site-packages (2.3.1)\n",
            "Requirement already satisfied: numpy>=1.26.0 in /home/codespace/.local/lib/python3.12/site-packages (from pandas) (2.3.1)\n",
            "Requirement already satisfied: python-dateutil>=2.8.2 in /home/codespace/.local/lib/python3.12/site-packages (from pandas) (2.9.0.post0)\n",
            "Requirement already satisfied: pytz>=2020.1 in /home/codespace/.local/lib/python3.12/site-packages (from pandas) (2025.2)\n",
            "Requirement already satisfied: tzdata>=2022.7 in /home/codespace/.local/lib/python3.12/site-packages (from pandas) (2025.2)\n",
            "Requirement already satisfied: six>=1.5 in /home/codespace/.local/lib/python3.12/site-packages (from python-dateutil>=2.8.2->pandas) (1.17.0)\n",
            "\n",
            "\u001b[1m[\u001b[0m\u001b[34;49mnotice\u001b[0m\u001b[1;39;49m]\u001b[0m\u001b[39;49m A new release of pip is available: \u001b[0m\u001b[31;49m25.1.1\u001b[0m\u001b[39;49m -> \u001b[0m\u001b[32;49m25.2\u001b[0m\n",
            "\u001b[1m[\u001b[0m\u001b[34;49mnotice\u001b[0m\u001b[1;39;49m]\u001b[0m\u001b[39;49m To update, run: \u001b[0m\u001b[32;49mpython3 -m pip install --upgrade pip\u001b[0m\n"
          ]
        }
      ],
      "source": [
        "!pip install pandas\n",
        "import pandas as pd"
      ]
    },
    {
      "cell_type": "code",
      "execution_count": 7,
      "metadata": {
        "id": "X60kEiV05OjF"
      },
      "outputs": [
        {
          "name": "stdout",
          "output_type": "stream",
          "text": [
            "排序前資料型態： <class 'pandas.core.frame.DataFrame'> \n",
            "\n",
            "\n",
            "     姓名  數學  英文\n",
            "0  多拉A夢  71  58\n",
            "1    大雄  96  84\n",
            "2    胖虎  61  74\n",
            "\n",
            "排序後資料型態： <class 'pandas.core.frame.DataFrame'> \n",
            "\n",
            "\n"
          ]
        },
        {
          "data": {
            "text/html": [
              "<div>\n",
              "<style scoped>\n",
              "    .dataframe tbody tr th:only-of-type {\n",
              "        vertical-align: middle;\n",
              "    }\n",
              "\n",
              "    .dataframe tbody tr th {\n",
              "        vertical-align: top;\n",
              "    }\n",
              "\n",
              "    .dataframe thead th {\n",
              "        text-align: right;\n",
              "    }\n",
              "</style>\n",
              "<table border=\"1\" class=\"dataframe\">\n",
              "  <thead>\n",
              "    <tr style=\"text-align: right;\">\n",
              "      <th></th>\n",
              "      <th>姓名</th>\n",
              "      <th>數學</th>\n",
              "      <th>英文</th>\n",
              "    </tr>\n",
              "  </thead>\n",
              "  <tbody>\n",
              "    <tr>\n",
              "      <th>1</th>\n",
              "      <td>大雄</td>\n",
              "      <td>96</td>\n",
              "      <td>84</td>\n",
              "    </tr>\n",
              "    <tr>\n",
              "      <th>9</th>\n",
              "      <td>王小明</td>\n",
              "      <td>94</td>\n",
              "      <td>61</td>\n",
              "    </tr>\n",
              "    <tr>\n",
              "      <th>6</th>\n",
              "      <td>出木杉</td>\n",
              "      <td>85</td>\n",
              "      <td>89</td>\n",
              "    </tr>\n",
              "  </tbody>\n",
              "</table>\n",
              "</div>"
            ],
            "text/plain": [
              "    姓名  數學  英文\n",
              "1   大雄  96  84\n",
              "9  王小明  94  61\n",
              "6  出木杉  85  89"
            ]
          },
          "execution_count": 7,
          "metadata": {},
          "output_type": "execute_result"
        }
      ],
      "source": [
        "# 課堂練習: 排序\n",
        "# 使用Pandas讀取資料\n",
        "# 從本機讀取 CSV 檔案，若使用Colab，要先將檔案上傳後才能讀取\n",
        "\n",
        "df = pd.read_csv('grades.csv',encoding='utf-8-sig')\n",
        "df.head(3)\n",
        "# 任務1\n",
        "# 不直接將排序結果取代原始df\n",
        "print(\"排序前資料型態：\",type(df),\"\\n\\n\")\n",
        "print(df[['姓名', '數學', '英文']].head(3))\n",
        "\n",
        "\n",
        "df_sorted1 = df.sort_values(by=['數學'], ascending=[False])\n",
        "print(\"\\n排序後資料型態：\",type(df_sorted1),\"\\n\\n\")\n",
        "df_sorted1[['姓名', '數學', '英文']].head(3)"
      ]
    },
    {
      "cell_type": "code",
      "execution_count": 5,
      "metadata": {
        "id": "C_2nQTdA5OfZ"
      },
      "outputs": [
        {
          "data": {
            "text/html": [
              "<div>\n",
              "<style scoped>\n",
              "    .dataframe tbody tr th:only-of-type {\n",
              "        vertical-align: middle;\n",
              "    }\n",
              "\n",
              "    .dataframe tbody tr th {\n",
              "        vertical-align: top;\n",
              "    }\n",
              "\n",
              "    .dataframe thead th {\n",
              "        text-align: right;\n",
              "    }\n",
              "</style>\n",
              "<table border=\"1\" class=\"dataframe\">\n",
              "  <thead>\n",
              "    <tr style=\"text-align: right;\">\n",
              "      <th></th>\n",
              "      <th>姓名</th>\n",
              "      <th>數學</th>\n",
              "      <th>英文</th>\n",
              "    </tr>\n",
              "  </thead>\n",
              "  <tbody>\n",
              "    <tr>\n",
              "      <th>1</th>\n",
              "      <td>大雄</td>\n",
              "      <td>96</td>\n",
              "      <td>84</td>\n",
              "    </tr>\n",
              "    <tr>\n",
              "      <th>9</th>\n",
              "      <td>王小明</td>\n",
              "      <td>94</td>\n",
              "      <td>61</td>\n",
              "    </tr>\n",
              "    <tr>\n",
              "      <th>15</th>\n",
              "      <td>張雅婷</td>\n",
              "      <td>85</td>\n",
              "      <td>100</td>\n",
              "    </tr>\n",
              "  </tbody>\n",
              "</table>\n",
              "</div>"
            ],
            "text/plain": [
              "     姓名  數學   英文\n",
              "1    大雄  96   84\n",
              "9   王小明  94   61\n",
              "15  張雅婷  85  100"
            ]
          },
          "execution_count": 5,
          "metadata": {},
          "output_type": "execute_result"
        }
      ],
      "source": [
        "# 任務2\n",
        "#by: 指定排序的欄位名稱（字串或列表）\n",
        "#ascending: 排序方向，True 為升序，False 為降序\n",
        "#inplace: 是否直接修改原始 DataFrame，否則會回傳一個新的 DataFrame，不會修改原始資料\n",
        "\n",
        "df_sorted2 = df.sort_values(by=['數學', '英文'], ascending=[False, False])\n",
        "df_sorted2[['姓名', '數學', '英文']].head(3)"
      ]
    },
    {
      "cell_type": "code",
      "execution_count": 8,
      "metadata": {
        "id": "PZKlKhnQYIW5"
      },
      "outputs": [
        {
          "name": "stdout",
          "output_type": "stream",
          "text": [
            "dfsort1 type: <class 'pandas.core.groupby.generic.DataFrameGroupBy'>\n",
            "for 取值\n",
            "type name <class 'tuple'> name： ('A',) type group <class 'pandas.core.frame.DataFrame'> 資料筆數： 17 \n",
            "group head(3))):\n",
            "   班級    姓名  數學\n",
            "0  A  多拉A夢  71\n",
            "1  A    大雄  96\n",
            "2  A    胖虎  61\n",
            "type name <class 'tuple'> name： ('B',) type group <class 'pandas.core.frame.DataFrame'> 資料筆數： 13 \n",
            "group head(3))):\n",
            "    班級    姓名  數學\n",
            "5   B  櫻木花道  50\n",
            "9   B   王小明  94\n",
            "11  B    魯夫  70\n"
          ]
        }
      ],
      "source": [
        "# 課堂練習: 分組P6  groupby\n",
        "#by: 指定分組的欄位名稱(可以一欄或多欄)\n",
        "#axis: 指定要依欄還是列分組，預設為axis=0 (0：欄、1：列)\n",
        "#sort: 是否將分組結果依分組欄位排序，預設為 True\n",
        "#as_index:是否將分組欄設為 index，預設為 True，實作上通常設False \n",
        "\n",
        "# 任務1\n",
        "#對 df 按照 班級 分組後，僅選擇了 班級、姓名 和 數學 這三個欄位。\n",
        "dfsort1 = df.groupby(by=['班級'])[[\"班級\",\"姓名\",'數學']]\n",
        "#dfsort1 = df.groupby('班級')\n",
        "print(\"dfsort1 type:\",type(dfsort1))\n",
        "\n",
        "#用 for 迴圈檢視dfsort1所有群組 \n",
        "print(\"for 取值\")\n",
        "for name, group in dfsort1:\n",
        "    print(\"type name\",type(name),\"name：\",name, \"type group\",type(group),\"資料筆數：\",len(group),\"\\ngroup head(3))):\\n\",group.head(3),)\n",
        "\n"
      ]
    },
    {
      "cell_type": "code",
      "execution_count": 18,
      "metadata": {},
      "outputs": [
        {
          "name": "stdout",
          "output_type": "stream",
          "text": [
            "\n",
            "dfsort1  sort by 班級，數學平均：\n",
            " {'A': [0, 1, 2, 3, 4, 6, 7, 8, 10, 12, 17, 18, 19, 21, 24, 25, 27], 'B': [5, 9, 11, 13, 14, 15, 16, 20, 22, 23, 26, 28, 29]}\n",
            "\n",
            "dfsort1  groups type: <class 'pandas.io.formats.printing.PrettyDict'>\n"
          ]
        },
        {
          "data": {
            "text/plain": [
              "True"
            ]
          },
          "execution_count": 18,
          "metadata": {},
          "output_type": "execute_result"
        }
      ],
      "source": [
        "#groups：查看「分組索引」輸出 (dict 格式，key 是群組名稱，value 是 index 列表)\n",
        "print(\"\\ndfsort1  sort by 班級，數學平均：\\n\",dfsort1.groups)\n",
        "print(\"\\ndfsort1  groups type:\",type(dfsort1.groups))\n",
        "isinstance(dfsort1.groups, dict)"
      ]
    },
    {
      "cell_type": "code",
      "execution_count": 19,
      "metadata": {},
      "outputs": [
        {
          "name": "stdout",
          "output_type": "stream",
          "text": [
            "\n",
            "dfsort1  sort by 班級，數學平均：\n",
            "    班級    姓名  數學\n",
            "0   A  多拉A夢  71\n",
            "1   A    大雄  96\n",
            "2   A    胖虎  61\n",
            "3   A    靜香  48\n",
            "4   A    小夫  80\n",
            "6   A   出木杉  85\n",
            "7   A   三井壽  50\n",
            "8   A   哆啦美  83\n",
            "10  A   我愛羅  53\n",
            "12  A    柯南  78\n",
            "17  A   黃怡君  74\n",
            "18  A   吳宗翰  79\n",
            "19  A   劉品妤  68\n",
            "21  A   楊博雅  61\n",
            "24  A   洪國維  56\n",
            "25  A   邱筱婷  62\n",
            "27  A   藍心妍  77\n",
            "\n",
            " type： <class 'pandas.core.frame.DataFrame'>\n"
          ]
        },
        {
          "name": "stderr",
          "output_type": "stream",
          "text": [
            "/tmp/ipykernel_2196/1715887121.py:2: FutureWarning: When grouping with a length-1 list-like, you will need to pass a length-1 tuple to get_group in a future version of pandas. Pass `(name,)` instead of `name` to silence this warning.\n",
            "  dfA = dfsort1.get_group(\"A\")\n"
          ]
        }
      ],
      "source": [
        "#get_group()：取出特定群組，傳回DataFrame\n",
        "dfA = dfsort1.get_group(\"A\")\n",
        "print(\"\\ndfsort1  sort by 班級，數學平均：\\n\",dfA)\n",
        "print(\"\\n type：\",type(dfA))\n",
        "\n"
      ]
    },
    {
      "cell_type": "code",
      "execution_count": 20,
      "metadata": {},
      "outputs": [
        {
          "name": "stdout",
          "output_type": "stream",
          "text": [
            "for 取值\n",
            "type name <class 'tuple'> name： ('A',) type group <class 'pandas.core.frame.DataFrame'> 資料筆數： 17 \n",
            "group head(3))):\n",
            "   班級    姓名  數學\n",
            "0  A  多拉A夢  71\n",
            "1  A    大雄  96\n",
            "2  A    胖虎  61\n",
            "type name <class 'tuple'> name： ('B',) type group <class 'pandas.core.frame.DataFrame'> 資料筆數： 13 \n",
            "group head(3))):\n",
            "    班級    姓名  數學\n",
            "5   B  櫻木花道  50\n",
            "9   B   王小明  94\n",
            "11  B    魯夫  70\n"
          ]
        }
      ],
      "source": [
        "#用 for 迴圈檢視dfsort1所有群組 \n",
        "print(\"for 取值\")\n",
        "for name, group in dfsort1:\n",
        "    print(\"type name\",type(name),\"name：\",name, \"type group\",type(group),\"資料筆數：\",len(group),\"\\ngroup head(3))):\\n\",group.head(3),)\n",
        "\n"
      ]
    },
    {
      "cell_type": "code",
      "execution_count": 10,
      "metadata": {},
      "outputs": [
        {
          "name": "stdout",
          "output_type": "stream",
          "text": [
            "dfsort2  sort by 班級，數學平均：\n",
            "   班級         數學\n",
            "0  A  69.529412\n",
            "1  B  73.000000\n",
            "dfsort3  sort by 班級與性別，數學平均：\n",
            " 班級  性別\n",
            "A   女     67.285714\n",
            "    男     72.500000\n",
            "B   女     79.750000\n",
            "    男     68.666667\n",
            "Name: 英文, dtype: float64\n",
            "dfsort4  sort by 班級與性別，數學平均：\n",
            " 班級  性別\n",
            "A   女     67.571429\n",
            "    男     70.900000\n",
            "B   女     75.000000\n",
            "    男     72.111111\n",
            "Name: 數學, dtype: float64\n"
          ]
        }
      ],
      "source": [
        "# 任務2\n",
        "dfsort2 = df.groupby(by=['班級'], as_index=False)['數學'].mean()\n",
        "print(\"dfsort2  sort by 班級，數學平均：\\n\",dfsort2)\n",
        "\n",
        "# 任務3\n",
        "dfsort3 = df.groupby(by=['班級', '性別'])['英文'].mean()\n",
        "print(\"dfsort3  sort by 班級與性別，數學平均：\\n\",dfsort3)\n",
        "dfsort4 = df.groupby(by=['班級', '性別'])['數學'].mean()\n",
        "print(\"dfsort4  sort by 班級與性別，數學平均：\\n\",dfsort4)"
      ]
    },
    {
      "cell_type": "code",
      "execution_count": 12,
      "metadata": {
        "id": "4QHwq2ZZajwF"
      },
      "outputs": [
        {
          "name": "stdout",
          "output_type": "stream",
          "text": [
            "            mean  max  min\n",
            "班級 性別                     \n",
            "A  女   67.571429   83   48\n",
            "   男   70.900000   96   50\n",
            "B  女   75.000000   85   63\n",
            "   男   72.111111   94   50\n",
            "            mean  max  min\n",
            "班級 性別                     \n",
            "A  女   67.285714   82   40\n",
            "   男   72.500000   95   54\n",
            "B  女   79.750000  100   63\n",
            "   男   68.666667   92   53\n"
          ]
        }
      ],
      "source": [
        "# 任務4\n",
        "print(df.groupby(by=['班級', '性別'])['數學'].agg(['mean', 'max', 'min']))\n",
        "print(df.groupby(by=['班級', '性別'])['英文'].agg(['mean', 'max', 'min']))"
      ]
    },
    {
      "cell_type": "code",
      "execution_count": null,
      "metadata": {
        "id": "Zzufy5UZfaQW"
      },
      "outputs": [
        {
          "name": "stdout",
          "output_type": "stream",
          "text": [
            "Class A：\n",
            "    姓名 性別 班級\n",
            "0  胖虎  男  A\n",
            "1  小夫  男  A\n",
            "2  靜香  女  A\n",
            "Class B：\n",
            "      姓名 性別 班級\n",
            "0    大雄  男  B\n",
            "1  多拉A夢  男  B\n",
            "2   出木杉  男  B\n"
          ]
        }
      ],
      "source": [
        "# concat範例\n",
        "\n",
        "# 建立範例 DataFrame\n",
        "## A班學生資料\n",
        "classA = {\n",
        "    '姓名': ['胖虎', '小夫', '靜香'],\n",
        "    '性別': ['男', '男', '女'],\n",
        "    '班級': ['A', 'A', 'A'],\n",
        "}\n",
        "## B班學生資料\n",
        "classB = {\n",
        "    '姓名': ['大雄', '多拉A夢', '出木杉'],\n",
        "    '性別': ['男', '男', '男'],\n",
        "    '班級': ['B', 'B', 'B'],\n",
        "}\n",
        "classA_df = pd.DataFrame(classA)\n",
        "classB_df = pd.DataFrame(classB)\n",
        "print(\"Class A：\\n\",classA_df)\n",
        "print(\"Class B：\\n\",classB_df)"
      ]
    },
    {
      "cell_type": "code",
      "execution_count": 31,
      "metadata": {},
      "outputs": [
        {
          "name": "stdout",
          "output_type": "stream",
          "text": [
            "垂直合併，重設索引 type： <class 'pandas.core.frame.DataFrame'> data\n",
            "      姓名 性別 班級\n",
            "0    胖虎  男  A\n",
            "1    小夫  男  A\n",
            "2    靜香  女  A\n",
            "3    大雄  男  B\n",
            "4  多拉A夢  男  B\n",
            "5   出木杉  男  B\n",
            "水平合併，重設索引 type： <class 'pandas.core.frame.DataFrame'> data\n",
            "     0  1  2     3  4  5\n",
            "0  胖虎  男  A    大雄  男  B\n",
            "1  小夫  男  A  多拉A夢  男  B\n",
            "2  靜香  女  A   出木杉  男  B\n"
          ]
        }
      ],
      "source": [
        "# 垂直合併，重設索引\n",
        "df_concat = pd.concat([classA_df, classB_df], ignore_index=True)\n",
        "print(\"垂直合併，重設索引 type：\",type(df_concat),\"data\\n\",df_concat)\n",
        "\n",
        "\n",
        "# 水平合併，重設索引\n",
        "df_concat = pd.concat([classA_df, classB_df], axis=1,ignore_index=True)\n",
        "print(\"水平合併，重設索引 type：\",type(df_concat),\"data\\n\",df_concat)"
      ]
    },
    {
      "cell_type": "code",
      "execution_count": 13,
      "metadata": {
        "id": "-lV41KwkcXHT"
      },
      "outputs": [
        {
          "name": "stdout",
          "output_type": "stream",
          "text": [
            "info_de:      學號  姓名 性別\n",
            "0  S001  胖虎  男\n",
            "1  S002  小夫  男\n",
            "2  S003  靜香  女\n",
            "3  S004  大雄  男\n",
            "score_de:      學號  科目  分數\n",
            "0  S001  數學  95\n",
            "1  S002  數學  87\n",
            "2  S003  數學  88\n"
          ]
        }
      ],
      "source": [
        "# merge範例\n",
        "# 建立範例 DataFrame\n",
        "## 學生基本資料表\n",
        "info_data = {\n",
        "    '學號': ['S001', 'S002', 'S003',\"S004\"],\n",
        "    '姓名': ['胖虎', '小夫', '靜香',\"大雄\"],\n",
        "    '性別': ['男', '男', '女',\"男\"]\n",
        "}\n",
        "\n",
        "## 學生成績表\n",
        "score_data = {\n",
        "    '學號': ['S001', 'S002', 'S003'],\n",
        "    '科目': ['數學', '數學', '數學'],\n",
        "    '分數': [95, 87, 88]\n",
        "}\n",
        "\n",
        "info_df = pd.DataFrame(info_data)\n",
        "score_df = pd.DataFrame(score_data)\n",
        "print(\"info_de:\",info_df)\n",
        "print(\"score_de:\",score_df)\n"
      ]
    },
    {
      "cell_type": "code",
      "execution_count": 17,
      "metadata": {},
      "outputs": [
        {
          "name": "stdout",
          "output_type": "stream",
          "text": [
            "     學號  姓名 性別  科目    分數\n",
            "0  S001  胖虎  男  數學  95.0\n",
            "1  S002  小夫  男  數學  87.0\n",
            "2  S003  靜香  女  數學  88.0\n"
          ]
        }
      ],
      "source": [
        "# 使用 merge 合併兩表\n",
        "merged = pd.merge(info_df, score_df, on='學號', how=\"outer\")\n",
        "print(merged.head(3))\n",
        "\n",
        "#merged_score = pd.merge(info_df, score_df, on='分數')\n",
        "#print(merged_score.head(3))"
      ]
    },
    {
      "cell_type": "code",
      "execution_count": 40,
      "metadata": {},
      "outputs": [
        {
          "name": "stdout",
          "output_type": "stream",
          "text": [
            "     學號  姓名 性別  科目  分數  班級\n",
            "0  S001  胖虎  男  數學  95  1班\n",
            "1  S002  小夫  男  數學  87  1班\n",
            "2  S003  靜香  女  數學  88  2班\n"
          ]
        }
      ],
      "source": [
        "#朝狀merge\n",
        "# 學生基本資料表\n",
        "info_data = {\n",
        "    '學號': ['S001', 'S002', 'S003'],\n",
        "    '姓名': ['胖虎', '小夫', '靜香'],\n",
        "    '性別': ['男', '男', '女']\n",
        "}\n",
        "\n",
        "# 學生成績表\n",
        "score_data = {\n",
        "    '學號': ['S001', 'S002', 'S003'],\n",
        "    '科目': ['數學', '數學', '數學'],\n",
        "    '分數': [95, 87, 88]\n",
        "}\n",
        "\n",
        "# 學生班級資料表\n",
        "class_data = {\n",
        "    '學號': ['S001', 'S002', 'S003'],\n",
        "    '班級': ['1班', '1班', '2班']\n",
        "}\n",
        "\n",
        "# 將資料轉換為 DataFrame\n",
        "info_df = pd.DataFrame(info_data)\n",
        "score_df = pd.DataFrame(score_data)\n",
        "class_df = pd.DataFrame(class_data)\n",
        "\n",
        "# 第一步：將 info_df 和 score_df 合併\n",
        "merged_1 = pd.merge(info_df, score_df, on='學號', how='inner')\n",
        "\n",
        "# 第二步：將 merged_1 與 class_df 合併\n",
        "final_merged = pd.merge(merged_1, class_df, on='學號', how='inner')\n",
        "\n",
        "# 顯示最終合併結果\n",
        "print(final_merged)"
      ]
    },
    {
      "cell_type": "code",
      "execution_count": 39,
      "metadata": {
        "id": "Omj9uuVDjAd-"
      },
      "outputs": [
        {
          "name": "stdout",
          "output_type": "stream",
          "text": [
            "      姓名 性別  年齡  科目  分數\n",
            "S001  胖虎  男  15  數學  95\n",
            "S002  小夫  男  14  數學  87\n",
            "S003  靜香  女  15  數學  88\n"
          ]
        }
      ],
      "source": [
        "# join範例\n",
        "\n",
        "# 學生基本資料表：將「姓名」作為欄位，學號作為索引\n",
        "info = {\n",
        "    '姓名': ['胖虎', '小夫', '靜香'],\n",
        "    '性別': ['男', '男', '女'],\n",
        "    '年齡': [15, 14, 15]\n",
        "}\n",
        "info_df = pd.DataFrame(info, index=['S001', 'S002', 'S003'])\n",
        "\n",
        "# 學生成績表：也以學號為索引\n",
        "score = {\n",
        "    '科目': ['數學', '數學', '數學'],\n",
        "    '分數': [95, 87, 88]\n",
        "}\n",
        "score_df = pd.DataFrame(score, index=['S001', 'S002', 'S003'])\n",
        "\n",
        "# 使用 join 合併（根據學號索引）\n",
        "result = info_df.join(score_df)\n",
        "print(result)\n"
      ]
    },
    {
      "cell_type": "code",
      "execution_count": 48,
      "metadata": {
        "id": "XYZv4KGQsPBJ"
      },
      "outputs": [
        {
          "name": "stdout",
          "output_type": "stream",
          "text": [
            "     性別 班級  數學  英文  國文  自然  社會\n",
            "姓名                            \n",
            "多拉A夢  男  A  71  58  64  73  58\n",
            "大雄    男  A  96  84  79  66  80\n",
            "胖虎    男  A  61  74  90  80  76\n",
            "     性別 班級  數學  英文  國文  自然  社會\n",
            "姓名                            \n",
            "多拉A夢  男  A  71  58  64  73  58\n",
            "大雄    男  A  96  84  79  66  80\n",
            "胖虎    男  A  61  74  90  80  76\n"
          ]
        }
      ],
      "source": [
        "# 使用Pandas讀取資料\n",
        "# 從本機讀取 CSV 檔案，若使用Colab，要先將檔案上傳後才能讀取\n",
        "df = pd.read_csv('grades.csv',encoding='utf-8-sig')\n",
        "df = df.set_index('姓名')\n",
        "print(df.head(3))\n",
        "print(df[df['國文'] >= 60].head(3))"
      ]
    },
    {
      "cell_type": "code",
      "execution_count": 18,
      "metadata": {
        "id": "c6rnugGvrOLf"
      },
      "outputs": [
        {
          "name": "stdout",
          "output_type": "stream",
          "text": [
            "     性別 班級  數學   英文   國文   自然  社會\n",
            "姓名                               \n",
            "多拉A夢  男  A  71   58   64   73  58\n",
            "大雄    男  A  96   84   79   66  80\n",
            "胖虎    男  A  61   74   90   80  76\n",
            "靜香    女  A  48   82   86   69  67\n",
            "小夫    男  A  80   59   92   44  70\n",
            "櫻木花道  男  B  50   71  100   74  57\n",
            "出木杉   男  A  85   89   80   72  72\n",
            "三井壽   男  A  50   62   49   84  61\n",
            "哆啦美   女  A  83   77   67   74  72\n",
            "王小明   男  B  94   61   55   87  70\n",
            "我愛羅   男  A  53   95   92   71  71\n",
            "魯夫    男  B  70   92  100   69  73\n",
            "柯南    男  A  78   91   93   56  85\n",
            "李雅雯   女  B  63   73   79   63  88\n",
            "陳建宏   男  B  84   67   70   65  71\n",
            "張雅婷   女  B  85  100   77   83  79\n",
            "林志偉   男  B  63   64   97   61  93\n",
            "黃怡君   女  A  74   59   70   81  44\n",
            "吳宗翰   男  A  79   59   75   53  80\n",
            "劉品妤   女  A  68   62   68   75  80\n",
            "蔡承翰   男  B  83   67   93   66  85\n",
            "楊博雅   女  A  61   40   89   77  78\n",
            "許庭瑋   男  B  72   72   80   64  80\n",
            "郭怡婷   女  B  82   63   81   74  51\n",
            "洪國維   男  A  56   54   74   63  77\n",
            "邱筱婷   女  A  62   78   87  100  71\n",
            "曾柏宇   男  B  74   53   86   93  58\n",
            "藍心妍   女  A  77   73   67   69  88\n",
            "羅承恩   男  B  59   71   84   87  67\n",
            "彭佳怡   女  B  70   83   87   68  84\n",
            "Index(['多拉A夢', '大雄', '胖虎', '靜香', '小夫', '櫻木花道', '出木杉', '三井壽', '哆啦美', '王小明',\n",
            "       '我愛羅', '魯夫', '柯南', '李雅雯', '陳建宏', '張雅婷', '林志偉', '黃怡君', '吳宗翰', '劉品妤',\n",
            "       '蔡承翰', '楊博雅', '許庭瑋', '郭怡婷', '洪國維', '邱筱婷', '曾柏宇', '藍心妍', '羅承恩', '彭佳怡'],\n",
            "      dtype='object', name='姓名')\n"
          ]
        }
      ],
      "source": [
        "df = pd.read_csv('grades.csv',encoding='utf-8-sig')\n",
        "df = df.set_index('姓名')\n",
        "print(df)\n",
        "\n",
        "print(df.index)\n",
        "\n"
      ]
    },
    {
      "cell_type": "code",
      "execution_count": 70,
      "metadata": {},
      "outputs": [
        {
          "name": "stdout",
          "output_type": "stream",
          "text": [
            "依索引選取某位學生的數學成績:\n",
            "96\n"
          ]
        }
      ],
      "source": [
        "#print(\"選取第 1 列學生的數學成績\",df.loc[1, '數學'])\n",
        "print(\"依索引選取某位學生的數學成績:\")\n",
        "print(df.loc[\"大雄\", '數學'])\n"
      ]
    },
    {
      "cell_type": "code",
      "execution_count": 66,
      "metadata": {},
      "outputs": [
        {
          "name": "stdout",
          "output_type": "stream",
          "text": [
            "選取所有學生的數學成績：\n"
          ]
        },
        {
          "data": {
            "text/plain": [
              "姓名\n",
              "多拉A夢    71\n",
              "大雄      96\n",
              "胖虎      61\n",
              "靜香      48\n",
              "小夫      80\n",
              "櫻木花道    50\n",
              "出木杉     85\n",
              "三井壽     50\n",
              "哆啦美     83\n",
              "王小明     94\n",
              "我愛羅     53\n",
              "魯夫      70\n",
              "柯南      78\n",
              "李雅雯     63\n",
              "陳建宏     84\n",
              "張雅婷     85\n",
              "林志偉     63\n",
              "黃怡君     74\n",
              "吳宗翰     79\n",
              "劉品妤     68\n",
              "蔡承翰     83\n",
              "楊博雅     61\n",
              "許庭瑋     72\n",
              "郭怡婷     82\n",
              "洪國維     56\n",
              "邱筱婷     62\n",
              "曾柏宇     74\n",
              "藍心妍     77\n",
              "羅承恩     59\n",
              "彭佳怡     70\n",
              "Name: 數學, dtype: int64"
            ]
          },
          "execution_count": 66,
          "metadata": {},
          "output_type": "execute_result"
        }
      ],
      "source": [
        "print(\"選取所有學生的數學成績：\")\n",
        "df.loc[:, \"數學\"]\n"
      ]
    },
    {
      "cell_type": "code",
      "execution_count": 20,
      "metadata": {},
      "outputs": [
        {
          "name": "stdout",
          "output_type": "stream",
          "text": [
            "     性別 班級  數學   英文   國文   自然  社會\n",
            "姓名                               \n",
            "多拉A夢  男  A  71   58   64   73  58\n",
            "大雄    男  A  96   84   79   66  80\n",
            "胖虎    男  A  61   74   90   80  76\n",
            "靜香    女  A  48   82   86   69  67\n",
            "小夫    男  A  80   59   92   44  70\n",
            "櫻木花道  男  B  50   71  100   74  57\n",
            "出木杉   男  A  85   89   80   72  72\n",
            "三井壽   男  A  50   62   49   84  61\n",
            "哆啦美   女  A  83   77   67   74  72\n",
            "王小明   男  B  94   61   55   87  70\n",
            "我愛羅   男  A  53   95   92   71  71\n",
            "魯夫    男  B  70   92  100   69  73\n",
            "柯南    男  A  78   91   93   56  85\n",
            "李雅雯   女  B  63   73   79   63  88\n",
            "陳建宏   男  B  84   67   70   65  71\n",
            "張雅婷   女  B  85  100   77   83  79\n",
            "林志偉   男  B  63   64   97   61  93\n",
            "黃怡君   女  A  74   59   70   81  44\n",
            "吳宗翰   男  A  79   59   75   53  80\n",
            "劉品妤   女  A  68   62   68   75  80\n",
            "蔡承翰   男  B  83   67   93   66  85\n",
            "楊博雅   女  A  61   40   89   77  78\n",
            "許庭瑋   男  B  72   72   80   64  80\n",
            "郭怡婷   女  B  82   63   81   74  51\n",
            "洪國維   男  A  56   54   74   63  77\n",
            "邱筱婷   女  A  62   78   87  100  71\n",
            "曾柏宇   男  B  74   53   86   93  58\n",
            "藍心妍   女  A  77   73   67   69  88\n",
            "羅承恩   男  B  59   71   84   87  67\n",
            "彭佳怡   女  B  70   83   87   68  84\n",
            "選取所有學生從「數學」到「自然」這幾科的成績:\n"
          ]
        },
        {
          "data": {
            "text/plain": [
              "數學    96\n",
              "英文    84\n",
              "國文    79\n",
              "自然    66\n",
              "Name: 大雄, dtype: object"
            ]
          },
          "execution_count": 20,
          "metadata": {},
          "output_type": "execute_result"
        }
      ],
      "source": [
        "#print(\"選取第 1 列學生的數學與英文成績：\",df.loc[1, ['數學', '英文']])\n",
        "print(df)\n",
        "print(\"選取所有學生從「數學」到「自然」這幾科的成績:\")\n",
        "df.loc[\"大雄\", '數學':'自然']"
      ]
    },
    {
      "cell_type": "code",
      "execution_count": 34,
      "metadata": {},
      "outputs": [
        {
          "name": "stdout",
          "output_type": "stream",
          "text": [
            "      姓名 性別 班級  數學   英文   國文   自然  社會\n",
            "0   多拉A夢  男  A  71   58   64   73  58\n",
            "1     大雄  男  A  96   84   79   66  80\n",
            "2     胖虎  男  A  61   74   90   80  76\n",
            "3     靜香  女  A  48   82   86   69  67\n",
            "4     小夫  男  A  80   59   92   44  70\n",
            "5   櫻木花道  男  B  50   71  100   74  57\n",
            "6    出木杉  男  A  85   89   80   72  72\n",
            "7    三井壽  男  A  50   62   49   84  61\n",
            "8    哆啦美  女  A  83   77   67   74  72\n",
            "9    王小明  男  B  94   61   55   87  70\n",
            "10   我愛羅  男  A  53   95   92   71  71\n",
            "11    魯夫  男  B  70   92  100   69  73\n",
            "12    柯南  男  A  78   91   93   56  85\n",
            "13   李雅雯  女  B  63   73   79   63  88\n",
            "14   陳建宏  男  B  84   67   70   65  71\n",
            "15   張雅婷  女  B  85  100   77   83  79\n",
            "16   林志偉  男  B  63   64   97   61  93\n",
            "17   黃怡君  女  A  74   59   70   81  44\n",
            "18   吳宗翰  男  A  79   59   75   53  80\n",
            "19   劉品妤  女  A  68   62   68   75  80\n",
            "20   蔡承翰  男  B  83   67   93   66  85\n",
            "21   楊博雅  女  A  61   40   89   77  78\n",
            "22   許庭瑋  男  B  72   72   80   64  80\n",
            "23   郭怡婷  女  B  82   63   81   74  51\n",
            "24   洪國維  男  A  56   54   74   63  77\n",
            "25   邱筱婷  女  A  62   78   87  100  71\n",
            "26   曾柏宇  男  B  74   53   86   93  58\n",
            "27   藍心妍  女  A  77   73   67   69  88\n",
            "28   羅承恩  男  B  59   71   84   87  67\n",
            "29   彭佳怡  女  B  70   83   87   68  84\n"
          ]
        },
        {
          "data": {
            "text/plain": [
              "數學    48\n",
              "英文    82\n",
              "Name: 3, dtype: object"
            ]
          },
          "execution_count": 34,
          "metadata": {},
          "output_type": "execute_result"
        }
      ],
      "source": [
        "dftemp = pd.read_csv('grades.csv',encoding='utf-8-sig')\n",
        "print(dftemp)\n",
        "\n",
        "dftemp.iloc[3, [3,4]] "
      ]
    },
    {
      "cell_type": "code",
      "execution_count": 71,
      "metadata": {
        "id": "G_yXqeY-saJa"
      },
      "outputs": [
        {
          "data": {
            "text/html": [
              "<div>\n",
              "<style scoped>\n",
              "    .dataframe tbody tr th:only-of-type {\n",
              "        vertical-align: middle;\n",
              "    }\n",
              "\n",
              "    .dataframe tbody tr th {\n",
              "        vertical-align: top;\n",
              "    }\n",
              "\n",
              "    .dataframe thead th {\n",
              "        text-align: right;\n",
              "    }\n",
              "</style>\n",
              "<table border=\"1\" class=\"dataframe\">\n",
              "  <thead>\n",
              "    <tr style=\"text-align: right;\">\n",
              "      <th></th>\n",
              "      <th>性別</th>\n",
              "      <th>班級</th>\n",
              "      <th>數學</th>\n",
              "      <th>英文</th>\n",
              "      <th>國文</th>\n",
              "      <th>自然</th>\n",
              "      <th>社會</th>\n",
              "    </tr>\n",
              "    <tr>\n",
              "      <th>姓名</th>\n",
              "      <th></th>\n",
              "      <th></th>\n",
              "      <th></th>\n",
              "      <th></th>\n",
              "      <th></th>\n",
              "      <th></th>\n",
              "      <th></th>\n",
              "    </tr>\n",
              "  </thead>\n",
              "  <tbody>\n",
              "    <tr>\n",
              "      <th>多拉A夢</th>\n",
              "      <td>男</td>\n",
              "      <td>A</td>\n",
              "      <td>71</td>\n",
              "      <td>58</td>\n",
              "      <td>64</td>\n",
              "      <td>73</td>\n",
              "      <td>58</td>\n",
              "    </tr>\n",
              "    <tr>\n",
              "      <th>大雄</th>\n",
              "      <td>男</td>\n",
              "      <td>A</td>\n",
              "      <td>96</td>\n",
              "      <td>84</td>\n",
              "      <td>79</td>\n",
              "      <td>66</td>\n",
              "      <td>80</td>\n",
              "    </tr>\n",
              "    <tr>\n",
              "      <th>胖虎</th>\n",
              "      <td>男</td>\n",
              "      <td>A</td>\n",
              "      <td>61</td>\n",
              "      <td>74</td>\n",
              "      <td>90</td>\n",
              "      <td>80</td>\n",
              "      <td>76</td>\n",
              "    </tr>\n",
              "    <tr>\n",
              "      <th>靜香</th>\n",
              "      <td>女</td>\n",
              "      <td>A</td>\n",
              "      <td>48</td>\n",
              "      <td>82</td>\n",
              "      <td>86</td>\n",
              "      <td>69</td>\n",
              "      <td>67</td>\n",
              "    </tr>\n",
              "    <tr>\n",
              "      <th>小夫</th>\n",
              "      <td>男</td>\n",
              "      <td>A</td>\n",
              "      <td>80</td>\n",
              "      <td>59</td>\n",
              "      <td>92</td>\n",
              "      <td>44</td>\n",
              "      <td>70</td>\n",
              "    </tr>\n",
              "  </tbody>\n",
              "</table>\n",
              "</div>"
            ],
            "text/plain": [
              "     性別 班級  數學  英文  國文  自然  社會\n",
              "姓名                            \n",
              "多拉A夢  男  A  71  58  64  73  58\n",
              "大雄    男  A  96  84  79  66  80\n",
              "胖虎    男  A  61  74  90  80  76\n",
              "靜香    女  A  48  82  86  69  67\n",
              "小夫    男  A  80  59  92  44  70"
            ]
          },
          "execution_count": 71,
          "metadata": {},
          "output_type": "execute_result"
        }
      ],
      "source": [
        "df[df['國文'] >= 60].head()"
      ]
    },
    {
      "cell_type": "code",
      "execution_count": 77,
      "metadata": {
        "id": "WR7H7dWpu2Ro"
      },
      "outputs": [
        {
          "name": "stdout",
          "output_type": "stream",
          "text": [
            "Index(['多拉A夢', '大雄', '胖虎', '靜香', '小夫', '櫻木花道', '出木杉', '三井壽', '哆啦美', '王小明',\n",
            "       '我愛羅', '魯夫', '柯南', '李雅雯', '陳建宏', '張雅婷', '林志偉', '黃怡君', '吳宗翰', '劉品妤',\n",
            "       '蔡承翰', '楊博雅', '許庭瑋', '郭怡婷', '洪國維', '邱筱婷', '曾柏宇', '藍心妍', '羅承恩', '彭佳怡'],\n",
            "      dtype='object', name='姓名')\n",
            "RangeIndex(start=0, stop=30, step=1)\n",
            "   姓名  數學  英文\n",
            "3  靜香  48  82\n"
          ]
        }
      ],
      "source": [
        "# 進階資料選取與修改\n",
        "# 任務1\n",
        "print(df.index)\n",
        "df_reset = df.reset_index()\n",
        "print(df_reset.index)\n",
        "print(df_reset.loc[df_reset['姓名'] == '靜香', ['姓名', '數學', '英文']])"
      ]
    },
    {
      "cell_type": "code",
      "execution_count": 78,
      "metadata": {
        "id": "4nHeeITjyijf"
      },
      "outputs": [
        {
          "data": {
            "text/html": [
              "<div>\n",
              "<style scoped>\n",
              "    .dataframe tbody tr th:only-of-type {\n",
              "        vertical-align: middle;\n",
              "    }\n",
              "\n",
              "    .dataframe tbody tr th {\n",
              "        vertical-align: top;\n",
              "    }\n",
              "\n",
              "    .dataframe thead th {\n",
              "        text-align: right;\n",
              "    }\n",
              "</style>\n",
              "<table border=\"1\" class=\"dataframe\">\n",
              "  <thead>\n",
              "    <tr style=\"text-align: right;\">\n",
              "      <th></th>\n",
              "      <th>姓名</th>\n",
              "      <th>性別</th>\n",
              "      <th>班級</th>\n",
              "      <th>數學</th>\n",
              "      <th>英文</th>\n",
              "      <th>國文</th>\n",
              "      <th>自然</th>\n",
              "      <th>社會</th>\n",
              "    </tr>\n",
              "  </thead>\n",
              "  <tbody>\n",
              "    <tr>\n",
              "      <th>0</th>\n",
              "      <td>多拉A夢</td>\n",
              "      <td>男</td>\n",
              "      <td>A</td>\n",
              "      <td>71</td>\n",
              "      <td>58</td>\n",
              "      <td>64</td>\n",
              "      <td>73</td>\n",
              "      <td>58</td>\n",
              "    </tr>\n",
              "    <tr>\n",
              "      <th>1</th>\n",
              "      <td>大雄</td>\n",
              "      <td>男</td>\n",
              "      <td>A</td>\n",
              "      <td>96</td>\n",
              "      <td>84</td>\n",
              "      <td>79</td>\n",
              "      <td>66</td>\n",
              "      <td>80</td>\n",
              "    </tr>\n",
              "    <tr>\n",
              "      <th>2</th>\n",
              "      <td>胖虎</td>\n",
              "      <td>男</td>\n",
              "      <td>A</td>\n",
              "      <td>61</td>\n",
              "      <td>74</td>\n",
              "      <td>90</td>\n",
              "      <td>80</td>\n",
              "      <td>76</td>\n",
              "    </tr>\n",
              "    <tr>\n",
              "      <th>3</th>\n",
              "      <td>靜香</td>\n",
              "      <td>女</td>\n",
              "      <td>A</td>\n",
              "      <td>48</td>\n",
              "      <td>82</td>\n",
              "      <td>86</td>\n",
              "      <td>69</td>\n",
              "      <td>67</td>\n",
              "    </tr>\n",
              "    <tr>\n",
              "      <th>4</th>\n",
              "      <td>小夫</td>\n",
              "      <td>男</td>\n",
              "      <td>A</td>\n",
              "      <td>80</td>\n",
              "      <td>59</td>\n",
              "      <td>92</td>\n",
              "      <td>44</td>\n",
              "      <td>70</td>\n",
              "    </tr>\n",
              "    <tr>\n",
              "      <th>5</th>\n",
              "      <td>櫻木花道</td>\n",
              "      <td>男</td>\n",
              "      <td>B</td>\n",
              "      <td>50</td>\n",
              "      <td>71</td>\n",
              "      <td>100</td>\n",
              "      <td>74</td>\n",
              "      <td>57</td>\n",
              "    </tr>\n",
              "    <tr>\n",
              "      <th>6</th>\n",
              "      <td>出木杉</td>\n",
              "      <td>男</td>\n",
              "      <td>A</td>\n",
              "      <td>85</td>\n",
              "      <td>89</td>\n",
              "      <td>80</td>\n",
              "      <td>72</td>\n",
              "      <td>72</td>\n",
              "    </tr>\n",
              "    <tr>\n",
              "      <th>7</th>\n",
              "      <td>三井壽</td>\n",
              "      <td>男</td>\n",
              "      <td>A</td>\n",
              "      <td>0</td>\n",
              "      <td>62</td>\n",
              "      <td>49</td>\n",
              "      <td>84</td>\n",
              "      <td>61</td>\n",
              "    </tr>\n",
              "    <tr>\n",
              "      <th>8</th>\n",
              "      <td>哆啦美</td>\n",
              "      <td>女</td>\n",
              "      <td>A</td>\n",
              "      <td>83</td>\n",
              "      <td>77</td>\n",
              "      <td>67</td>\n",
              "      <td>74</td>\n",
              "      <td>72</td>\n",
              "    </tr>\n",
              "    <tr>\n",
              "      <th>9</th>\n",
              "      <td>王小明</td>\n",
              "      <td>男</td>\n",
              "      <td>B</td>\n",
              "      <td>0</td>\n",
              "      <td>61</td>\n",
              "      <td>55</td>\n",
              "      <td>87</td>\n",
              "      <td>70</td>\n",
              "    </tr>\n",
              "    <tr>\n",
              "      <th>10</th>\n",
              "      <td>我愛羅</td>\n",
              "      <td>男</td>\n",
              "      <td>A</td>\n",
              "      <td>53</td>\n",
              "      <td>95</td>\n",
              "      <td>92</td>\n",
              "      <td>71</td>\n",
              "      <td>71</td>\n",
              "    </tr>\n",
              "    <tr>\n",
              "      <th>11</th>\n",
              "      <td>魯夫</td>\n",
              "      <td>男</td>\n",
              "      <td>B</td>\n",
              "      <td>70</td>\n",
              "      <td>92</td>\n",
              "      <td>100</td>\n",
              "      <td>69</td>\n",
              "      <td>73</td>\n",
              "    </tr>\n",
              "    <tr>\n",
              "      <th>12</th>\n",
              "      <td>柯南</td>\n",
              "      <td>男</td>\n",
              "      <td>A</td>\n",
              "      <td>78</td>\n",
              "      <td>91</td>\n",
              "      <td>93</td>\n",
              "      <td>56</td>\n",
              "      <td>85</td>\n",
              "    </tr>\n",
              "    <tr>\n",
              "      <th>13</th>\n",
              "      <td>李雅雯</td>\n",
              "      <td>女</td>\n",
              "      <td>B</td>\n",
              "      <td>63</td>\n",
              "      <td>73</td>\n",
              "      <td>79</td>\n",
              "      <td>63</td>\n",
              "      <td>88</td>\n",
              "    </tr>\n",
              "    <tr>\n",
              "      <th>14</th>\n",
              "      <td>陳建宏</td>\n",
              "      <td>男</td>\n",
              "      <td>B</td>\n",
              "      <td>84</td>\n",
              "      <td>67</td>\n",
              "      <td>70</td>\n",
              "      <td>65</td>\n",
              "      <td>71</td>\n",
              "    </tr>\n",
              "    <tr>\n",
              "      <th>15</th>\n",
              "      <td>張雅婷</td>\n",
              "      <td>女</td>\n",
              "      <td>B</td>\n",
              "      <td>85</td>\n",
              "      <td>100</td>\n",
              "      <td>77</td>\n",
              "      <td>83</td>\n",
              "      <td>79</td>\n",
              "    </tr>\n",
              "    <tr>\n",
              "      <th>16</th>\n",
              "      <td>林志偉</td>\n",
              "      <td>男</td>\n",
              "      <td>B</td>\n",
              "      <td>63</td>\n",
              "      <td>64</td>\n",
              "      <td>97</td>\n",
              "      <td>61</td>\n",
              "      <td>93</td>\n",
              "    </tr>\n",
              "    <tr>\n",
              "      <th>17</th>\n",
              "      <td>黃怡君</td>\n",
              "      <td>女</td>\n",
              "      <td>A</td>\n",
              "      <td>74</td>\n",
              "      <td>59</td>\n",
              "      <td>70</td>\n",
              "      <td>81</td>\n",
              "      <td>44</td>\n",
              "    </tr>\n",
              "    <tr>\n",
              "      <th>18</th>\n",
              "      <td>吳宗翰</td>\n",
              "      <td>男</td>\n",
              "      <td>A</td>\n",
              "      <td>79</td>\n",
              "      <td>59</td>\n",
              "      <td>75</td>\n",
              "      <td>53</td>\n",
              "      <td>80</td>\n",
              "    </tr>\n",
              "    <tr>\n",
              "      <th>19</th>\n",
              "      <td>劉品妤</td>\n",
              "      <td>女</td>\n",
              "      <td>A</td>\n",
              "      <td>68</td>\n",
              "      <td>62</td>\n",
              "      <td>68</td>\n",
              "      <td>75</td>\n",
              "      <td>80</td>\n",
              "    </tr>\n",
              "    <tr>\n",
              "      <th>20</th>\n",
              "      <td>蔡承翰</td>\n",
              "      <td>男</td>\n",
              "      <td>B</td>\n",
              "      <td>83</td>\n",
              "      <td>67</td>\n",
              "      <td>93</td>\n",
              "      <td>66</td>\n",
              "      <td>85</td>\n",
              "    </tr>\n",
              "    <tr>\n",
              "      <th>21</th>\n",
              "      <td>楊博雅</td>\n",
              "      <td>女</td>\n",
              "      <td>A</td>\n",
              "      <td>61</td>\n",
              "      <td>40</td>\n",
              "      <td>89</td>\n",
              "      <td>77</td>\n",
              "      <td>78</td>\n",
              "    </tr>\n",
              "    <tr>\n",
              "      <th>22</th>\n",
              "      <td>許庭瑋</td>\n",
              "      <td>男</td>\n",
              "      <td>B</td>\n",
              "      <td>72</td>\n",
              "      <td>72</td>\n",
              "      <td>80</td>\n",
              "      <td>64</td>\n",
              "      <td>80</td>\n",
              "    </tr>\n",
              "    <tr>\n",
              "      <th>23</th>\n",
              "      <td>郭怡婷</td>\n",
              "      <td>女</td>\n",
              "      <td>B</td>\n",
              "      <td>82</td>\n",
              "      <td>63</td>\n",
              "      <td>81</td>\n",
              "      <td>74</td>\n",
              "      <td>51</td>\n",
              "    </tr>\n",
              "    <tr>\n",
              "      <th>24</th>\n",
              "      <td>洪國維</td>\n",
              "      <td>男</td>\n",
              "      <td>A</td>\n",
              "      <td>56</td>\n",
              "      <td>54</td>\n",
              "      <td>74</td>\n",
              "      <td>63</td>\n",
              "      <td>77</td>\n",
              "    </tr>\n",
              "    <tr>\n",
              "      <th>25</th>\n",
              "      <td>邱筱婷</td>\n",
              "      <td>女</td>\n",
              "      <td>A</td>\n",
              "      <td>62</td>\n",
              "      <td>78</td>\n",
              "      <td>87</td>\n",
              "      <td>100</td>\n",
              "      <td>71</td>\n",
              "    </tr>\n",
              "    <tr>\n",
              "      <th>26</th>\n",
              "      <td>曾柏宇</td>\n",
              "      <td>男</td>\n",
              "      <td>B</td>\n",
              "      <td>74</td>\n",
              "      <td>53</td>\n",
              "      <td>86</td>\n",
              "      <td>93</td>\n",
              "      <td>58</td>\n",
              "    </tr>\n",
              "    <tr>\n",
              "      <th>27</th>\n",
              "      <td>藍心妍</td>\n",
              "      <td>女</td>\n",
              "      <td>A</td>\n",
              "      <td>77</td>\n",
              "      <td>73</td>\n",
              "      <td>67</td>\n",
              "      <td>69</td>\n",
              "      <td>88</td>\n",
              "    </tr>\n",
              "    <tr>\n",
              "      <th>28</th>\n",
              "      <td>羅承恩</td>\n",
              "      <td>男</td>\n",
              "      <td>B</td>\n",
              "      <td>59</td>\n",
              "      <td>71</td>\n",
              "      <td>84</td>\n",
              "      <td>87</td>\n",
              "      <td>67</td>\n",
              "    </tr>\n",
              "    <tr>\n",
              "      <th>29</th>\n",
              "      <td>彭佳怡</td>\n",
              "      <td>女</td>\n",
              "      <td>B</td>\n",
              "      <td>70</td>\n",
              "      <td>83</td>\n",
              "      <td>87</td>\n",
              "      <td>68</td>\n",
              "      <td>84</td>\n",
              "    </tr>\n",
              "  </tbody>\n",
              "</table>\n",
              "</div>"
            ],
            "text/plain": [
              "      姓名 性別 班級  數學   英文   國文   自然  社會\n",
              "0   多拉A夢  男  A  71   58   64   73  58\n",
              "1     大雄  男  A  96   84   79   66  80\n",
              "2     胖虎  男  A  61   74   90   80  76\n",
              "3     靜香  女  A  48   82   86   69  67\n",
              "4     小夫  男  A  80   59   92   44  70\n",
              "5   櫻木花道  男  B  50   71  100   74  57\n",
              "6    出木杉  男  A  85   89   80   72  72\n",
              "7    三井壽  男  A   0   62   49   84  61\n",
              "8    哆啦美  女  A  83   77   67   74  72\n",
              "9    王小明  男  B   0   61   55   87  70\n",
              "10   我愛羅  男  A  53   95   92   71  71\n",
              "11    魯夫  男  B  70   92  100   69  73\n",
              "12    柯南  男  A  78   91   93   56  85\n",
              "13   李雅雯  女  B  63   73   79   63  88\n",
              "14   陳建宏  男  B  84   67   70   65  71\n",
              "15   張雅婷  女  B  85  100   77   83  79\n",
              "16   林志偉  男  B  63   64   97   61  93\n",
              "17   黃怡君  女  A  74   59   70   81  44\n",
              "18   吳宗翰  男  A  79   59   75   53  80\n",
              "19   劉品妤  女  A  68   62   68   75  80\n",
              "20   蔡承翰  男  B  83   67   93   66  85\n",
              "21   楊博雅  女  A  61   40   89   77  78\n",
              "22   許庭瑋  男  B  72   72   80   64  80\n",
              "23   郭怡婷  女  B  82   63   81   74  51\n",
              "24   洪國維  男  A  56   54   74   63  77\n",
              "25   邱筱婷  女  A  62   78   87  100  71\n",
              "26   曾柏宇  男  B  74   53   86   93  58\n",
              "27   藍心妍  女  A  77   73   67   69  88\n",
              "28   羅承恩  男  B  59   71   84   87  67\n",
              "29   彭佳怡  女  B  70   83   87   68  84"
            ]
          },
          "execution_count": 78,
          "metadata": {},
          "output_type": "execute_result"
        }
      ],
      "source": [
        "# 任務2\n",
        "df_reset.loc[df_reset['國文'] < 60, '數學'] = 0\n",
        "df_reset\n"
      ]
    },
    {
      "cell_type": "code",
      "execution_count": 79,
      "metadata": {
        "id": "sUa7i1Y6xvff"
      },
      "outputs": [
        {
          "data": {
            "text/html": [
              "<div>\n",
              "<style scoped>\n",
              "    .dataframe tbody tr th:only-of-type {\n",
              "        vertical-align: middle;\n",
              "    }\n",
              "\n",
              "    .dataframe tbody tr th {\n",
              "        vertical-align: top;\n",
              "    }\n",
              "\n",
              "    .dataframe thead th {\n",
              "        text-align: right;\n",
              "    }\n",
              "</style>\n",
              "<table border=\"1\" class=\"dataframe\">\n",
              "  <thead>\n",
              "    <tr style=\"text-align: right;\">\n",
              "      <th></th>\n",
              "      <th>姓名</th>\n",
              "      <th>性別</th>\n",
              "      <th>班級</th>\n",
              "      <th>數學</th>\n",
              "      <th>英文</th>\n",
              "      <th>國文</th>\n",
              "      <th>自然</th>\n",
              "      <th>社會</th>\n",
              "    </tr>\n",
              "  </thead>\n",
              "  <tbody>\n",
              "    <tr>\n",
              "      <th>0</th>\n",
              "      <td>多拉A夢</td>\n",
              "      <td>男</td>\n",
              "      <td>A</td>\n",
              "      <td>71</td>\n",
              "      <td>58</td>\n",
              "      <td>64</td>\n",
              "      <td>73</td>\n",
              "      <td>58</td>\n",
              "    </tr>\n",
              "    <tr>\n",
              "      <th>1</th>\n",
              "      <td>大雄</td>\n",
              "      <td>男</td>\n",
              "      <td>A</td>\n",
              "      <td>96</td>\n",
              "      <td>84</td>\n",
              "      <td>79</td>\n",
              "      <td>66</td>\n",
              "      <td>80</td>\n",
              "    </tr>\n",
              "    <tr>\n",
              "      <th>2</th>\n",
              "      <td>胖虎</td>\n",
              "      <td>男</td>\n",
              "      <td>A</td>\n",
              "      <td>61</td>\n",
              "      <td>74</td>\n",
              "      <td>90</td>\n",
              "      <td>80</td>\n",
              "      <td>76</td>\n",
              "    </tr>\n",
              "    <tr>\n",
              "      <th>3</th>\n",
              "      <td>靜香</td>\n",
              "      <td>女</td>\n",
              "      <td>A</td>\n",
              "      <td>48</td>\n",
              "      <td>82</td>\n",
              "      <td>86</td>\n",
              "      <td>69</td>\n",
              "      <td>67</td>\n",
              "    </tr>\n",
              "    <tr>\n",
              "      <th>4</th>\n",
              "      <td>小夫</td>\n",
              "      <td>男</td>\n",
              "      <td>A</td>\n",
              "      <td>80</td>\n",
              "      <td>59</td>\n",
              "      <td>92</td>\n",
              "      <td>44</td>\n",
              "      <td>70</td>\n",
              "    </tr>\n",
              "  </tbody>\n",
              "</table>\n",
              "</div>"
            ],
            "text/plain": [
              "     姓名 性別 班級  數學  英文  國文  自然  社會\n",
              "0  多拉A夢  男  A  71  58  64  73  58\n",
              "1    大雄  男  A  96  84  79  66  80\n",
              "2    胖虎  男  A  61  74  90  80  76\n",
              "3    靜香  女  A  48  82  86  69  67\n",
              "4    小夫  男  A  80  59  92  44  70"
            ]
          },
          "execution_count": 79,
          "metadata": {},
          "output_type": "execute_result"
        }
      ],
      "source": [
        "# 任務3\n",
        "df_reset.iloc[2:5, 1:3]\n",
        "df_reset.head()"
      ]
    },
    {
      "cell_type": "code",
      "execution_count": null,
      "metadata": {},
      "outputs": [],
      "source": []
    }
  ],
  "metadata": {
    "colab": {
      "provenance": []
    },
    "kernelspec": {
      "display_name": "Python 3",
      "language": "python",
      "name": "python3"
    },
    "language_info": {
      "codemirror_mode": {
        "name": "ipython",
        "version": 3
      },
      "file_extension": ".py",
      "mimetype": "text/x-python",
      "name": "python",
      "nbconvert_exporter": "python",
      "pygments_lexer": "ipython3",
      "version": "3.12.1"
    }
  },
  "nbformat": 4,
  "nbformat_minor": 0
}
